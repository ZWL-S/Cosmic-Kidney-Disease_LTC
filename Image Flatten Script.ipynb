{
 "cells": [
  {
   "cell_type": "code",
   "execution_count": 1,
   "id": "8bbbf790-2823-47dc-919f-b5b53447764b",
   "metadata": {},
   "outputs": [],
   "source": [
    "from aicspylibczi import CziFile\n",
    "import tifffile\n",
    "from patchify import patchify, unpatchify\n",
    "from pystackreg import StackReg\n",
    "from tqdm import tqdm\n",
    "\n",
    "\n",
    "import matplotlib.pyplot as plt\n",
    "import numpy as np\n",
    "from skimage import transform\n",
    "\n",
    "import time\n",
    "import os\n",
    "import cv2\n",
    "import itertools\n",
    "import gc\n",
    "import math\n",
    "\n",
    "from sys import getsizeof"
   ]
  },
  {
   "cell_type": "code",
   "execution_count": 2,
   "id": "e34004b0-9cea-4da0-8341-3ce86a1c767d",
   "metadata": {},
   "outputs": [
    {
     "data": {
      "text/plain": [
       "63.74656677246094"
      ]
     },
     "execution_count": 2,
     "metadata": {},
     "output_type": "execute_result"
    }
   ],
   "source": [
    "import psutil\n",
    "psutil.virtual_memory().total/(1024**3)"
   ]
  },
  {
   "cell_type": "markdown",
   "id": "4ea23bf5-3097-4725-a9ef-a10e8fc02ed2",
   "metadata": {},
   "source": [
    "\n",
    "todo:\n",
    "\n",
    "read_czi_generate_scale_img:\n",
    "    generate low res single layer img?\n",
    "    generate specific scene\n",
    "    handle really large image file\n",
    "\n",
    "read_czi_generate_edof_img:\n",
    "    generate specific scene\n",
    "    handle really large image file\n",
    "    progress calculating\n",
    "\n",
    "split the large contour into multipieces, \n",
    "and read stack, edof for each,\n",
    "and stitch back.\n",
    "Possible error, edof pad will cause problem when stitch back\n",
    "\n",
    "estimating the file size\n",
    "\n",
    "\n",
    "read czi -> multi z layers img -> split into big patch -> each big patch first layer tissue:background, if ratio too small, skip? -> each edof patch in the big patch, tissue image quality, crystal? dust?, delete unwanted? -> EDOF -> full edof image"
   ]
  },
  {
   "cell_type": "code",
   "execution_count": 3,
   "id": "7e2b4a15-33a4-4cc1-b5d0-b0fee513b6c7",
   "metadata": {},
   "outputs": [],
   "source": [
    "# cv2.INTER_AREA,\n",
    "# cv2.INTER_BITS,\n",
    "# cv2.INTER_BITS2,\n",
    "# cv2.INTER_CUBIC,\n",
    "# cv2.INTER_LANCZOS4,\n",
    "# cv2.INTER_LINEAR,\n",
    "# cv2.INTER_LINEAR_EXACT,\n",
    "# cv2.INTER_NEAREST"
   ]
  },
  {
   "cell_type": "markdown",
   "id": "2ed3ed7f-bd7e-43db-9eeb-d27eda944dd0",
   "metadata": {
    "jp-MarkdownHeadingCollapsed": true,
    "tags": []
   },
   "source": [
    "# Utils"
   ]
  },
  {
   "cell_type": "code",
   "execution_count": 4,
   "id": "2f0820e4-e564-4700-85f8-866fe353d4a3",
   "metadata": {},
   "outputs": [],
   "source": [
    "def writeTiffStk(img_stack,save_img_path):\n",
    "    with tifffile.TiffWriter(save_img_path) as stack:\n",
    "        for img in img_stack:\n",
    "            stack.save(img)\n",
    "\n",
    "# DeprecationWarning: <tifffile.TiffWriter.save> is deprecated. Use TiffWriter.write\n",
    "#   stack.save(img)\n",
    "\n",
    "def writeTiff(img_stack,save_img_path):\n",
    "    tifffile.imwrite(save_img_path, img_stack, photometric='rgb',metadata={'axes':'YXC'})\n",
    "\n",
    "def readTiffStk(img_path,move_axis=True):\n",
    "    img = tifffile.imread(img_path)\n",
    "    if move_axis:\n",
    "        img = np.moveaxis(img,1,-1)\n",
    "    return img"
   ]
  },
  {
   "cell_type": "code",
   "execution_count": 5,
   "id": "e3cbf6c4-7f20-4e85-8fb2-87acfb1dc82a",
   "metadata": {},
   "outputs": [],
   "source": [
    "def crop_content(image):\n",
    "    bounding_box = find_minimum_bounding_box(image)\n",
    "    return extract_content(image, bounding_box)\n",
    "\n",
    "def find_minimum_bounding_box(image):\n",
    "    \"\"\"Find the minimum bounding box for the non-zero content of an image.\n",
    "\n",
    "    Args:\n",
    "    image: A 2D numpy array representing the image.\n",
    "\n",
    "    Returns:\n",
    "    Tuple of (min_x, min_y, max_x, max_y) that forms the bounding box.\n",
    "    \"\"\"\n",
    "    # Find rows and columns where the image is non-zero\n",
    "    non_zero_coords = np.argwhere(image)\n",
    "\n",
    "    # Extract separate arrays for rows and columns\n",
    "    rows = non_zero_coords[:, 0]\n",
    "    cols = non_zero_coords[:, 1]\n",
    "\n",
    "    # Find minimum and maximum values\n",
    "    min_row, max_row = rows.min(), rows.max()\n",
    "    min_col, max_col = cols.min(), cols.max()\n",
    "\n",
    "    # Calculate width and height\n",
    "    width = max_col - min_col + 1\n",
    "    height = max_row - min_row + 1\n",
    "\n",
    "    # Return the bounding box coordinates in (x, y, width, height) format\n",
    "    return (min_col, min_row, width, height)\n",
    "\n",
    "# Example usage:\n",
    "# image = load_your_image_here()\n",
    "# bounding_box = find_minimum_bounding_box(image)\n",
    "# print(\"Bounding box:\", bounding_box)\n",
    "\n",
    "def extract_content(image, bounding_box_xywh):\n",
    "    \"\"\"\n",
    "    Extracts the content from the image based on a bounding box in (x, y, width, height) format.\n",
    "\n",
    "    Args:\n",
    "    image: A 2D numpy array representing the image.\n",
    "    bounding_box_xywh: A tuple of (x, y, width, height) defining the bounding box.\n",
    "\n",
    "    Returns:\n",
    "    A 2D numpy array containing only the content within the bounding box.\n",
    "    \"\"\"\n",
    "    x, y, width, height = bounding_box_xywh\n",
    "    min_x, min_y = x, y\n",
    "    max_x, max_y = x + width, y + height\n",
    "\n",
    "    return image[min_y:max_y, min_x:max_x]\n",
    "\n",
    "# Example usage:\n",
    "# image = load_your_image_here()\n",
    "# bounding_box_xywh = (100, 150, 50, 75)  # Example: (x, y, width, height)\n",
    "# content_image = extract_content(image, bounding_box_xywh)"
   ]
  },
  {
   "cell_type": "code",
   "execution_count": 6,
   "id": "da11d9a4-fdcc-40a7-84e6-93cdfabe2188",
   "metadata": {},
   "outputs": [],
   "source": [
    "def apply_padding(res, x_pad, y_pad, x_window_size, y_window_size):\n",
    "    \"\"\"Apply padding to the sliced image data.\n",
    "\n",
    "    Args:\n",
    "    res: The result from slicing the image data.\n",
    "    x_pad: The padding to be applied on the x-axis. If None, no padding is applied.\n",
    "    y_pad: The padding to be applied on the y-axis. If None, no padding is applied.\n",
    "    x_window_size: The size of the window on the x-axis.\n",
    "    y_window_size: The size of the window on the y-axis.\n",
    "\n",
    "    Returns:\n",
    "    Padded image data.\n",
    "    \"\"\"\n",
    "    x, y = res.shape[1], res.shape[2]\n",
    "    npad = ((0, 0),\n",
    "            (0, x_pad if x_pad is not None else 0),\n",
    "            (0, y_pad if y_pad is not None else 0),\n",
    "            (0, 0))\n",
    "    return np.pad(res, pad_width=npad, mode='constant', constant_values=0)\n",
    "\n",
    "def slice_func(img_data, start_points, window_shape, padding=None):\n",
    "    \"\"\"Slice the image data and apply optional padding.\n",
    "\n",
    "    Args:\n",
    "    img_data: The original multi-dimensional image data.\n",
    "    start_points: The starting points for slicing the image data.\n",
    "    window_shape: The shape of the window for slicing.\n",
    "    padding: A tuple (x_pad, y_pad) indicating padding on each axis. If None, no padding is applied.\n",
    "\n",
    "    Returns:\n",
    "    The sliced (and optionally padded) image data.\n",
    "    \"\"\"\n",
    "    z_window_size, x_window_size, y_window_size, c_window_size = window_shape\n",
    "    z_start_point, x_start_point, y_start_point, c_start_point = start_points\n",
    "\n",
    "    res = img_data[\n",
    "        z_start_point : z_start_point + z_window_size,\n",
    "        x_start_point : x_start_point + x_window_size,\n",
    "        y_start_point : y_start_point + y_window_size,\n",
    "        c_start_point : c_start_point + c_window_size,\n",
    "    ]\n",
    "\n",
    "    # Apply padding if necessary\n",
    "    if padding:\n",
    "        x_pad, y_pad = padding\n",
    "        # Adjust padding based on position in the image\n",
    "        x_pad = x_pad if x_start_point + x_window_size > img_data.shape[1] else None\n",
    "        y_pad = y_pad if y_start_point + y_window_size > img_data.shape[2] else None\n",
    "        res = apply_padding(res, x_pad, y_pad, x_window_size, y_window_size)\n",
    "\n",
    "    return res"
   ]
  },
  {
   "cell_type": "code",
   "execution_count": 7,
   "id": "87c59fdf-4214-4dc4-a97b-e72c15b2c481",
   "metadata": {},
   "outputs": [],
   "source": [
    "def calc_pad_parms(original_image_size, xy_window_size, step_size):\n",
    "    n_step = 0\n",
    "\n",
    "    while (n_step-1)*step_size + xy_window_size < original_image_size:\n",
    "        n_step = n_step + 1\n",
    "    padding = (n_step-1)*step_size + xy_window_size - original_image_size\n",
    "\n",
    "    return n_step, padding"
   ]
  },
  {
   "cell_type": "code",
   "execution_count": 8,
   "id": "4473e136-85f9-474f-b7ab-4c2877c43165",
   "metadata": {},
   "outputs": [],
   "source": [
    "def register_imgStk(img_stack,convert_to_gray_to_reg=False):\n",
    "    # from pystackreg import StackReg\n",
    "    stitch_stack = None\n",
    "    for img in img_stack:\n",
    "\n",
    "        if convert_to_gray_to_reg:\n",
    "            img = rgbStk_to_grayStk(img)\n",
    "        else:\n",
    "            img = img[:,:,0]\n",
    "\n",
    "        img = np.expand_dims(img,0)\n",
    "\n",
    "        if stitch_stack is None:\n",
    "            stitch_stack = img\n",
    "        else:\n",
    "            stitch_stack = np.concatenate((stitch_stack,img),axis=0)\n",
    "\n",
    "    sr = StackReg(StackReg.RIGID_BODY)\n",
    "    tmats = sr.register_stack(stitch_stack, reference='previous')\n",
    "\n",
    "    f_img = flattenClChannel(img_stack)\n",
    "    out = np.zeros(f_img.shape).astype(float)\n",
    "\n",
    "    expand_tmat_list = list(np.repeat([3],tmats.shape[0]))\n",
    "    expand_tmat = np.repeat(tmats,expand_tmat_list,axis=0)\n",
    "\n",
    "    for im_index in range(f_img.shape[0]):\n",
    "        out[im_index, :, :] = transform.warp(f_img[im_index, :, :], expand_tmat[im_index, :, :], order=3)*255\n",
    "\n",
    "    r_img = recoverClChannel(out).astype(np.uint8)\n",
    "\n",
    "    return r_img\n",
    "\n",
    "def select_infocus_layer_for_rgbImgStk(img_stack, best_focus):\n",
    "    stack,h,w,c = img_stack.shape\n",
    "    image = img_stack.reshape((stack,-1,c)) # image is now (stack, nr_pixels)\n",
    "\n",
    "    best_focus = best_focus.ravel()\n",
    "\n",
    "    r = np.array([image[best_focus[i],i] for i in range(image.shape[1])])\n",
    "    r = r.reshape((h,w,c))\n",
    "\n",
    "    return r\n",
    "\n",
    "def rgbStk_to_grayStk(img_stack):\n",
    "    gray_stack = None\n",
    "    for i in range(img_stack.shape[0]):\n",
    "        tmp = rgbImg_to_grayImg(img_stack[i])\n",
    "        tmp = np.expand_dims(tmp,0)\n",
    "        if gray_stack is None:\n",
    "            gray_stack = tmp\n",
    "        else:\n",
    "            gray_stack = np.concatenate((gray_stack,tmp),axis=0)\n",
    "\n",
    "    return gray_stack\n",
    "\n",
    "def flattenClChannel(img_stack):\n",
    "    z,x,y,c = img_stack.shape\n",
    "    img_stack = np.moveaxis(img_stack,3,1)\n",
    "    img_stack = img_stack.reshape((-1,x,y))\n",
    "    return img_stack\n",
    "\n",
    "def recoverClChannel(img_stack):\n",
    "    z,x,y = img_stack.shape\n",
    "    img_stack = img_stack.reshape((-1,3,x,y))\n",
    "    img_stack = np.moveaxis(img_stack,1,3)\n",
    "    return img_stack\n",
    "\n",
    "def rgbImg_to_grayImg(rgb):\n",
    "    return np.dot(rgb[...,:3], [0.2989, 0.5870, 0.1140])"
   ]
  },
  {
   "cell_type": "code",
   "execution_count": 9,
   "id": "a3199499-962c-4e1b-8992-c186c2727411",
   "metadata": {},
   "outputs": [],
   "source": [
    "def generate_edof_var_LayerMap_patch(img_stack,window_size):\n",
    "    z,x,y,c = img_stack.shape\n",
    "    patches = patchify(img_stack,(z,window_size,window_size,c),step=window_size)\n",
    "    patches = np.squeeze(patches)\n",
    "    patch_dim_0 = patches.shape[0]\n",
    "    patch_dim_1 = patches.shape[1]\n",
    "    patches = patches.reshape((-1,z,window_size,window_size,c))\n",
    "\n",
    "    tmp = []\n",
    "    for patch in patches:\n",
    "        std_list = [np.var(patch[i]) for i in range(z)]\n",
    "        index = std_list.index(max(std_list))\n",
    "        tmp.append(index)\n",
    "\n",
    "    tmp = np.array(tmp)\n",
    "    # patch_dim = int(tmp.shape[0]**0.5)\n",
    "    tmp = tmp.reshape(patch_dim_0,patch_dim_1)\n",
    "    return tmp\n",
    "\n",
    "\n",
    "\n",
    "def edof_var_patch(img_stack,window_size):\n",
    "    z,x,y,c = img_stack.shape\n",
    "    patches = patchify(img_stack,(z,window_size,window_size,c),step=window_size)\n",
    "    patches = np.squeeze(patches)\n",
    "    patch_dim_0 = patches.shape[0]\n",
    "    patch_dim_1 = patches.shape[1]\n",
    "    patches = patches.reshape((-1,z,window_size,window_size,c))\n",
    "\n",
    "    tmp = []\n",
    "    for patch in patches:\n",
    "        std_list = [np.var(patch[i]) for i in range(z)]\n",
    "        index = std_list.index(max(std_list))\n",
    "        tmp.append(patch[index])\n",
    "\n",
    "    tmp = np.array(tmp)\n",
    "    #patch shape might not be square\n",
    "    # patch_dim = int(tmp.shape[0]**0.5)\n",
    "    tmp = tmp.reshape(patch_dim_0,patch_dim_1,window_size,window_size,c)\n",
    "    tmp = np.expand_dims(tmp,axis=2)\n",
    "    reconstructed_image = unpatchify(tmp, (x,y,c))\n",
    "\n",
    "    return reconstructed_image"
   ]
  },
  {
   "cell_type": "code",
   "execution_count": 10,
   "id": "6a7b3831-af27-4c87-acb4-b86c9428da78",
   "metadata": {},
   "outputs": [],
   "source": [
    "def scale_bounding_box(bbox, original_shape, original_scale, new_scale):\n",
    "    \"\"\"\n",
    "    Scale bounding box coordinates based on the scale factors of two images.\n",
    "\n",
    "    Args:\n",
    "    bbox (tuple): The bounding box in the format (x, y, width, height).\n",
    "    original_shape (tuple): The shape (height, width) of the first image.\n",
    "    original_scale (float): The scale factor of the first image.\n",
    "    new_scale (float): The scale factor of the second image.\n",
    "\n",
    "    Returns:\n",
    "    tuple: Scaled bounding box coordinates.\n",
    "    \"\"\"\n",
    "    x, y, width, height = bbox\n",
    "    original_height, original_width = original_shape\n",
    "\n",
    "    # Calculate the effective scale factors\n",
    "    scale_x = (original_width * new_scale) / (original_width * original_scale)\n",
    "    scale_y = (original_height * new_scale) / (original_height * original_scale)\n",
    "\n",
    "    # Scale the bounding box\n",
    "    scaled_x = int(x * scale_x)\n",
    "    scaled_y = int(y * scale_y)\n",
    "    scaled_width = int(width * scale_x)\n",
    "    scaled_height = int(height * scale_y)\n",
    "\n",
    "    return (scaled_x, scaled_y, scaled_width, scaled_height)\n",
    "\n",
    "# Example usage:\n",
    "# bbox = (100, 150, 50, 75)  # Original bounding box (x, y, width, height)\n",
    "# original_shape = (1000, 1000)  # Shape of the first image (height, width)\n",
    "# original_scale = 1.0  # Scale factor of the first image\n",
    "# new_scale = 0.5  # Scale factor of the second image\n",
    "# scaled_bbox = scale_bounding_box(bbox, original_shape, original_scale, new_scale)\n",
    "# print(\"Scaled Bounding Box:\", scaled_bbox)\n",
    "\n",
    "def bbox_trans_coord(bbox, new_coord_info):\n",
    "    \"\"\"\n",
    "    Translate bounding box coordinates and check if it fits within a new coordinate system.\n",
    "\n",
    "    Args:\n",
    "    bbox (tuple): The bounding box in the format (x, y, width, height).\n",
    "    new_origin (tuple): The new origin coordinates (new_x, new_y), which can be negative.\n",
    "    new_system_width (int): The width of the new coordinate system.\n",
    "    new_system_height (int): The height of the new coordinate system.\n",
    "\n",
    "    Returns:\n",
    "    tuple: Translated bounding box and a boolean indicating if it fits in the new system.\n",
    "    \"\"\"\n",
    "    x, y, width, height = bbox\n",
    "    new_x, new_y, new_width, new_height = new_coord_info\n",
    "\n",
    "    # Translate the bounding box\n",
    "    translated_x = x + new_x\n",
    "    translated_y = y + new_y\n",
    "\n",
    "    return (translated_x, translated_y, width, height)\n",
    "\n",
    "# Example usage\n",
    "# bbox = (100, 150, 50, 75)  # Original bounding box (x, y, width, height)\n",
    "# new_origin = (-50, 50)  # New origin coordinates with negative x\n",
    "# new_system_width, new_system_height = 200, 200  # Dimensions of the new coordinate system\n",
    "# translated_bbox, fits = translate_and_check_bounding_box(bbox, new_origin, new_system_width, new_system_height)\n",
    "# print(\"Translated Bounding Box:\", translated_bbox, \"Fits in new system:\", fits)\n",
    "\n",
    "def adjust_bbox_coord(n, bbox):\n",
    "    bbox = list(bbox)\n",
    "    bbox[0] = bbox[0] + n\n",
    "    bbox[1] = bbox[1] + n\n",
    "    bbox[2] = bbox[2] - 2*n\n",
    "    bbox[3] = bbox[3] - 2*n\n",
    "    bbox = tuple(bbox)\n",
    "    return bbox"
   ]
  },
  {
   "cell_type": "code",
   "execution_count": 11,
   "id": "bece62db-9c04-485b-bfde-54e2965cd1c9",
   "metadata": {},
   "outputs": [],
   "source": [
    "def get_full_coord_info(czi):\n",
    "    full_coord_info = czi.get_mosaic_bounding_box()\n",
    "    x,y,w,h = full_coord_info.x,full_coord_info.y,full_coord_info.w,full_coord_info.h\n",
    "    return (x,y,w,h)\n",
    "\n",
    "def get_contours_info_from_low_res(czi):\n",
    "    msk = czi.read_mosaic(C=0, Z=0,scale_factor=0.1)[0,0]\n",
    "    msk[msk!=0]=1\n",
    "    contours, hierarchy = cv2.findContours(\n",
    "        msk[:,:,0], cv2.RETR_EXTERNAL, cv2.CHAIN_APPROX_SIMPLE)\n",
    "    return msk, contours\n",
    "\n",
    "def calc_contour_coord_in_full_res(contour, low_res_img_shape, new_coord_info):\n",
    "    try:\n",
    "        low_res_img_shape = low_res_img_shape.shape[:2]\n",
    "    except:\n",
    "        low_res_img_shape = low_res_img_shape\n",
    "        \n",
    "    bbox = cv2.boundingRect(contour)\n",
    "    full_bbox = scale_bounding_box(bbox, low_res_img_shape, 0.1, 1)\n",
    "    trans_full_bbox = bbox_trans_coord(full_bbox, new_coord_info)\n",
    "    return trans_full_bbox\n",
    "\n",
    "def validate_contour(contour, czi, max_range=200):\n",
    "    orginal_contour = contour\n",
    "    try:\n",
    "        img = czi.read_mosaic(orginal_contour, C=0, Z=0,scale_factor=0.1)[0,0]\n",
    "        return orginal_contour\n",
    "    except:\n",
    "        contour = orginal_contour\n",
    "        for n in range(10,max_range,10):\n",
    "            contour = adjust_bbox_coord(n, orginal_contour)\n",
    "            try:\n",
    "                img = czi.read_mosaic(contour, C=0, Z=0,scale_factor=0.1)[0,0]\n",
    "                return contour\n",
    "            except:\n",
    "                print(f'Adjusting img size by shrink {n} pixels')\n",
    "    raise Exception(f\"Bounding box not fit in the original coordinate, try increase the n range, now is {max_range}\") \n",
    "\n",
    "def obtain_img_zlayer_by_contour(contour, czi, z, scale_factor=0.1):\n",
    "    img = czi.read_mosaic(contour, C=0, Z=z,scale_factor=scale_factor)[0,0]    \n",
    "    img[:,:,[0,2]] = img[:,:,[2,0]] #BGR -> RGB\n",
    "    return img    \n",
    "\n",
    "def process_patch(img, window_shape, x_col, y_row, step, padding, x_pad, y_pad):\n",
    "    z_start_point, c_start_point = 0, 0\n",
    "    x_start_point, y_start_point = x_col * step, y_row * step\n",
    "    start_points = [z_start_point, x_start_point, y_start_point, c_start_point]\n",
    "    padding_values = (x_pad, y_pad) if padding else None\n",
    "\n",
    "    return slice_func(img, start_points, window_shape, padding_values)\n",
    "\n",
    "def apply_patch_processing(patch, filter_window_size, registration, smooth=None):\n",
    "    if registration:\n",
    "        reg_patch = register_imgStk(patch)\n",
    "    else:\n",
    "        reg_patch = patch\n",
    "\n",
    "    if smooth:\n",
    "        extend_dof_img_map = generate_edof_var_LayerMap_patch(reg_patch, filter_window_size)\n",
    "        expand_map = cv2.resize(extend_dof_img_map.astype(float), (patch.shape[2], patch.shape[1]), interpolation=smooth)\n",
    "        expand_map = expand_map.round().astype('int').clip(0, patch.shape[0] - 1)\n",
    "        return select_infocus_layer_for_rgbImgStk(patch, expand_map)\n",
    "    else:\n",
    "        return edof_var_patch(reg_patch, filter_window_size) \n"
   ]
  },
  {
   "cell_type": "code",
   "execution_count": 12,
   "id": "a3fe0c14-ee7a-47af-88af-cce47cbb7199",
   "metadata": {},
   "outputs": [],
   "source": [
    "# def generate_output_path(output_name, output_path, file_path, suffix='flatten', img_format='jpg'):\n",
    "#     head, tail = os.path.split(file_path)\n",
    "\n",
    "#     if output_name is None:\n",
    "#         print(f'output_name not set, will save with suffix {suffix}')\n",
    "#         output_name = '{}_{}.{}'.format(tail.split('.')[0], suffix, img_format)\n",
    "\n",
    "#     if output_path is None:\n",
    "#         print('output_path not set, will save to the readin file path')\n",
    "#         output_path = head\n",
    "\n",
    "#     return os.path.join(output_path, output_name)"
   ]
  },
  {
   "cell_type": "code",
   "execution_count": 13,
   "id": "e42f5d58-70ee-402b-b130-1ae635bfbae1",
   "metadata": {},
   "outputs": [],
   "source": [
    "def estimate_file_size_from_contour(contour, czi, z_num):\n",
    "    img = obtain_img_zlayer_by_contour(contour, czi, 0, 0.1)\n",
    "    single_img_size = round(img.nbytes*100 / 1024 / 1024 /1024,2) #in Gb\n",
    "    full_img_size = z_num * single_img_size #in Gb\n",
    "    return single_img_size, full_img_size"
   ]
  },
  {
   "cell_type": "code",
   "execution_count": 14,
   "id": "d5db855b-b32e-460f-9a48-bfac04bef71e",
   "metadata": {},
   "outputs": [],
   "source": [
    "def split_contour(contour_info, window_size):\n",
    "    \"\"\"\n",
    "    Splits a contour into smaller pieces.\n",
    "    \n",
    "    :param x: X-coordinate of the contour's top-left corner.\n",
    "    :param y: Y-coordinate of the contour's top-left corner.\n",
    "    :param w: Width of the contour.\n",
    "    :param h: Height of the contour.\n",
    "    :param window_size: Size of the window for splitting.\n",
    "    :return: A list of tuples (x, y, w, h) for each piece.\n",
    "    \"\"\"\n",
    "    x,y,w,h = contour_info\n",
    "    pieces = []\n",
    "    for i in range(y, y + h, window_size):\n",
    "        for j in range(x, x + w, window_size):\n",
    "            # Adjust width and height for pieces at the edges\n",
    "            width = min(window_size, x + w - j)\n",
    "            height = min(window_size, y + h - i)\n",
    "            pieces.append((j, i, width, height))\n",
    "    return pieces\n",
    "\n",
    "def fit_shape_with_window(shape, window_shape):\n",
    "    w,h = shape\n",
    "    res_w = w if w%window_shape == 0 else window_shape * (math.floor(w/window_shape)+1)\n",
    "    res_h = h if h%window_shape == 0 else window_shape * (math.floor(h/window_shape)+1)\n",
    "    return (res_w, res_h)"
   ]
  },
  {
   "cell_type": "markdown",
   "id": "8a48f1ec-9be3-41a8-b424-fe96940afe53",
   "metadata": {},
   "source": [
    "# Main Func"
   ]
  },
  {
   "cell_type": "markdown",
   "id": "c43019c5-17c4-4b0e-9d48-949106989daf",
   "metadata": {
    "jp-MarkdownHeadingCollapsed": true,
    "tags": []
   },
   "source": [
    "## From CZI to EDOF img directly patch"
   ]
  },
  {
   "cell_type": "code",
   "execution_count": 15,
   "id": "e4bc90c1-b167-435a-b21a-32905038ed7a",
   "metadata": {},
   "outputs": [],
   "source": [
    "def read_czi_generate_edof_img_patch(file_path, \n",
    "                                output_name=None, output_path=None,\n",
    "                                patch_window_factor=25, filter_window_size=200,\n",
    "                                registration=False, smooth=False):\n",
    "\n",
    "    readin_patch_size = patch_window_factor*filter_window_size\n",
    "    scale_factor=1\n",
    "    \n",
    "    print(f'File:{file_path} Processing')\n",
    "    czi = CziFile(file_path)\n",
    "    z_range = czi.get_dims_shape()[0]['Z'][1]\n",
    "    full_coord_info = get_full_coord_info(czi)\n",
    "\n",
    "    msk, low_res_contours = get_contours_info_from_low_res(czi)\n",
    "    output_img_num = len(low_res_contours)\n",
    "    channel_num = msk.shape[-1]\n",
    "\n",
    "    for c_idx, low_res_contour in enumerate(low_res_contours, 1):\n",
    "        print(f'Multi Z Layer Img Reading & EDOF {c_idx}/{output_img_num}')\n",
    "        full_res_contour_bbox = calc_contour_coord_in_full_res(low_res_contour, msk, full_coord_info)\n",
    "        full_res_contour_bbox = validate_contour(full_res_contour_bbox, czi)\n",
    "    \n",
    "        scale_shape = [int(1.01*scale_factor*i) for i in full_res_contour_bbox[2:][::-1]]\n",
    "        output_wh = fit_shape_with_window(scale_shape, readin_patch_size)\n",
    "        flatten_image = np.zeros((*output_wh, channel_num)).astype('uint8')\n",
    "    \n",
    "        normal_full_res_contour_bbox = (0,0,*full_res_contour_bbox[-2:])\n",
    "        sub_contours = split_contour(normal_full_res_contour_bbox, readin_patch_size)\n",
    "    \n",
    "        for sub_contour in tqdm(sub_contours):\n",
    "            trans_sub_contour = bbox_trans_coord(sub_contour, full_res_contour_bbox)\n",
    "            img = obtain_img_zlayer_by_contour(trans_sub_contour, czi, 0, 0.1)\n",
    "    \n",
    "            if np.any(img):\n",
    "                stack = []\n",
    "                for z in range(z_range):\n",
    "                    trans_sub_contour = bbox_trans_coord(sub_contour, full_res_contour_bbox)\n",
    "                    img = obtain_img_zlayer_by_contour(trans_sub_contour, czi, z, scale_factor)\n",
    "                    img = np.expand_dims(img, axis=0)\n",
    "                    stack.append(img)\n",
    "        \n",
    "                stack = np.concatenate(stack, axis=0)\n",
    "        \n",
    "        \n",
    "                stack_z, stack_w, stack_h, stack_c= stack.shape\n",
    "                if stack_w < readin_patch_size or stack_h < readin_patch_size:\n",
    "                    holder = np.zeros((stack_z, readin_patch_size, readin_patch_size, stack_c))\n",
    "                    holder[:, :stack_w, :stack_h ,:] = stack\n",
    "                    stack = holder\n",
    "                    \n",
    "                flatten_patch = apply_patch_processing(stack, filter_window_size, registration, smooth).astype('uint8')\n",
    "        \n",
    "                flatten_image[\n",
    "                        sub_contour[1]:sub_contour[1]+readin_patch_size, \n",
    "                        sub_contour[0]:sub_contour[0]+readin_patch_size,\n",
    "                        :\n",
    "                ] = flatten_patch\n",
    "                \n",
    "                del flatten_patch, stack; gc.collect()\n",
    "            else:\n",
    "                del img; gc.collect()\n",
    "    \n",
    "        final_image_path = generate_output_path(output_name, output_path, file_path, c_idx, suffix='WholeImage', img_format='jpg')\n",
    "    \n",
    "        print('Croping...', end='')\n",
    "        out_w, out_h = full_res_contour_bbox[-2:]\n",
    "        flatten_image = flatten_image[:out_h+20, :out_w+20]\n",
    "        print('Saving...', end='')\n",
    "        writeTiff(flatten_image, final_image_path) \n",
    "        print('Done')\n",
    "            \n",
    "        del flatten_image; gc.collect()\n",
    "    print('---------------------------')\n",
    "    return 0"
   ]
  },
  {
   "cell_type": "markdown",
   "id": "538b3611-4163-43a7-b098-9a9e0ad9365d",
   "metadata": {
    "jp-MarkdownHeadingCollapsed": true
   },
   "source": [
    "## From CZI to EDOF img directly Full"
   ]
  },
  {
   "cell_type": "code",
   "execution_count": 16,
   "id": "63e4032d-e9ad-4d66-bacf-2a4f3c88ba36",
   "metadata": {},
   "outputs": [],
   "source": [
    "def generate_output_path(output_name, output_path, file_path, img_num, suffix='flatten', img_format='jpg'):\n",
    "    head, tail = os.path.split(file_path)\n",
    "\n",
    "    if output_name is None:\n",
    "        print(f'output_name not set, will save with suffix {suffix}')\n",
    "        originl_file_name = tail.split('.')[0]\n",
    "        output_name = f'{originl_file_name}_S{img_num}_{suffix}.{img_format}'\n",
    "    else:\n",
    "        output_name = f'{output_name}_S{img_num}_{suffix}.{img_format}'\n",
    "\n",
    "    if output_path is None:\n",
    "        print('output_path not set, will save to the readin file path')\n",
    "        output_path = head\n",
    "\n",
    "\n",
    "    return os.path.join(output_path, output_name)\n",
    "    \n",
    "def read_czi_generate_edof_img(file_path, \n",
    "                                output_name=None, output_path=None,\n",
    "                                z_range=None, scale_factor=0.1,\n",
    "                                patch_window_size=2000,filter_window_size=200,\n",
    "                                registration=False, smooth=False):\n",
    "\n",
    "\n",
    "    padding = True\n",
    "    \n",
    "    print(f'File:{file_path} Processing')\n",
    "    czi = CziFile(file_path)\n",
    "\n",
    "    if z_range == None:\n",
    "        z_range = czi.get_dims_shape()[0]['Z'][1]\n",
    "    \n",
    "    full_coord_info = get_full_coord_info(czi)\n",
    "    msk, low_res_contours = get_contours_info_from_low_res(czi)\n",
    "    output_img_num = len(low_res_contours)\n",
    "    # print(f'{output_img_num} output image(s)')\n",
    "\n",
    "    for c_idx, low_res_contour in enumerate(low_res_contours, 1):\n",
    "        print(f'Multi Z Layer Img {c_idx}/{output_img_num}')\n",
    "        high_res_contour_bbox = calc_contour_coord_in_full_res(low_res_contour, msk, full_coord_info)\n",
    "        high_res_contour_bbox = validate_contour(high_res_contour_bbox, czi)\n",
    "\n",
    "        #estimate full image size here      \n",
    "        start_time = time.time()\n",
    "        stack = []\n",
    "        for z in range(z_range):\n",
    "            img = obtain_img_zlayer_by_contour(high_res_contour_bbox, czi, z, scale_factor)\n",
    "            img = np.expand_dims(img, axis=0)\n",
    "            stack.append(img)\n",
    "            \n",
    "            worked_time = (time.time()-start_time)/60\n",
    "            progress = 100*(z+1)/z_range\n",
    "            time_left = worked_time/(z+1) * (z_range-(z+1))\n",
    "            print(f'\\rReading:\\t Progress:{progress:.2f}% | Run:{worked_time:.2f} min | est Time left:{time_left:.2f} min | {z+1}/{z_range}...', end = '')\n",
    "        print('Finished')\n",
    "\n",
    "        print('\\t\\tConcatenating...', end='')\n",
    "        stack = np.concatenate(stack, axis=0)\n",
    "        print('Finished')\n",
    "        \n",
    "        del img\n",
    "        gc.collect()\n",
    "\n",
    "        step = xy_window_size = patch_window_size\n",
    "        z, x, y, c = stack.shape\n",
    "        window_shape = [z, xy_window_size, xy_window_size, c]\n",
    "        x_cols, x_pad = calc_pad_parms(x, xy_window_size, step)\n",
    "        y_rows, y_pad = calc_pad_parms(y, xy_window_size, step)\n",
    "        \n",
    "        whole_image = np.zeros((x_cols * xy_window_size, y_rows * xy_window_size, 3), dtype='uint8')\n",
    "        total_count = y_rows * x_cols\n",
    "\n",
    "        start_time = time.time()\n",
    "        worked_time = 0 \n",
    "        time_left = 0\n",
    "        for count, (y_row, x_col) in enumerate(itertools.product(range(y_rows), range(x_cols)), 1):\n",
    "            img_slice = process_patch(stack, window_shape, x_col, y_row, step, padding, x_pad, y_pad)\n",
    "            processed_patch = apply_patch_processing(img_slice, filter_window_size, registration, smooth)\n",
    "            \n",
    "            whole_image[x_col * xy_window_size: (x_col + 1) * xy_window_size, \n",
    "                y_row * xy_window_size: (y_row + 1) * xy_window_size] = processed_patch\n",
    "            \n",
    "            worked_time = (time.time()-start_time)/60\n",
    "            progress = 100*count/total_count\n",
    "            time_left = worked_time/count * (total_count-count)\n",
    "            print(f'\\rEDOF:\\t\\t Progress:{progress:.2f}% | Run:{worked_time:.2f} min | est Time left:{time_left:.2f} min | {count}/{total_count}...', end='')\n",
    "        print('Finished')\n",
    "        \n",
    "        del stack\n",
    "        gc.collect()\n",
    "        \n",
    "        \n",
    "        final_image_path = generate_output_path(output_name, output_path, file_path, c_idx, suffix='WholeImage', img_format='jpg')\n",
    "        \n",
    "        print('\\t\\tCroping...', end='')\n",
    "        whole_image = crop_content(whole_image)\n",
    "        \n",
    "        print('Saving...', end='')\n",
    "        writeTiff(whole_image, final_image_path) \n",
    "        print('Done')\n",
    "        \n",
    "        del whole_image\n",
    "        gc.collect()\n",
    "\n",
    "    print('---------------------------')\n",
    "    return 0 "
   ]
  },
  {
   "cell_type": "markdown",
   "id": "c466eabc-b1dd-40e1-9f69-f05af458925b",
   "metadata": {
    "jp-MarkdownHeadingCollapsed": true
   },
   "source": [
    "## Generate Scale multi zLayer img fron CZI"
   ]
  },
  {
   "cell_type": "code",
   "execution_count": 17,
   "id": "1d446207-9911-41da-be0c-9ef4daa94973",
   "metadata": {},
   "outputs": [],
   "source": [
    "def read_czi_generate_scale_img(file_path, z_range=None, output_name=None, output_path=None,\n",
    "                             scale_factor=0.1):\n",
    "\n",
    "    output_file_path = setup_output_paths(output_name, output_path)\n",
    "    print(f'File:{file_path} Processing')\n",
    "\n",
    "    czi = CziFile(file_path)\n",
    "\n",
    "    if z_range == None:\n",
    "        z_range = czi.get_dims_shape()[0]['Z'][1]\n",
    "        \n",
    "    full_coord_info = get_full_coord_info(czi)\n",
    "    msk, low_res_contours = get_contours_info_from_low_res(czi)\n",
    "    output_img_num = len(low_res_contours)\n",
    "    print(f'{output_img_num} output image(s)')\n",
    "    \n",
    "    start_time = time.time()\n",
    "    worked_time = 0 \n",
    "    time_left = 0\n",
    "    count = 1\n",
    "    total_count = output_img_num*z_range\n",
    "\n",
    "    for c_idx, low_res_contour in enumerate(low_res_contours):\n",
    "        high_res_contour_bbox = calc_contour_coord_in_full_res(low_res_contour, msk, full_coord_info)\n",
    "        high_res_contour_bbox = validate_contour(high_res_contour_bbox, czi)\n",
    "\n",
    "        #estimate full image size here\n",
    "        tif = tifffile.TiffWriter('{}_S{}.tif'.format(output_file_path, c_idx+1), bigtiff=True)\n",
    "        for z in range(z_range):\n",
    "            img = obtain_img_zlayer_by_contour(high_res_contour_bbox, czi, z, scale_factor)        \n",
    "            tif.write(img, contiguous=True)\n",
    "            \n",
    "            worked_time = (time.time()-start_time)/60\n",
    "            progress = 100*count/total_count\n",
    "            time_left = worked_time/count * (total_count-count)\n",
    "            print(f'\\r{output_name}  {count}/{total_count} Progress:{progress:.2f}% | Run:{worked_time:.2f} min | est Time left:{time_left:.2f} min',end='')\n",
    "            count += 1\n",
    "            \n",
    "        tif.close()\n",
    "        \n",
    "    print('\\n------Done------')\n",
    "    return output_img_num\n",
    "\n",
    "def setup_output_paths(output_name, output_path):\n",
    "    if output_path is None and output_name is None:\n",
    "        print('Warning: output_path is not set, output file could be rewritten!')\n",
    "\n",
    "    if output_name is None:\n",
    "        output_name = 'output_img'\n",
    "\n",
    "    if output_path is None:\n",
    "        output_path = ''\n",
    "\n",
    "    return os.path.join(output_path, output_name)"
   ]
  },
  {
   "cell_type": "markdown",
   "id": "5044628b-81d6-47d6-9a57-93a8f92898e3",
   "metadata": {
    "tags": []
   },
   "source": [
    "## EDOF the multi zLayer Img"
   ]
  },
  {
   "cell_type": "code",
   "execution_count": 18,
   "id": "3551466c-5672-4fe4-8d88-afd1e4d81266",
   "metadata": {},
   "outputs": [],
   "source": [
    "def edof_multi_zLayer_img(img, xy_window_size, save_file_name='output_img',\n",
    "                            save_file_path='', filter_window_size=20, registration=False,\n",
    "                            smooth=None):\n",
    "\n",
    "    # smooth_method=cv2.INTER_CUBIC,\n",
    "\n",
    "    \"\"\"\n",
    "    Process an image in patches and directly save each patch or the whole processed image.\n",
    "\n",
    "    Args:\n",
    "        img: Image to be processed.\n",
    "        xy_window_size: Size of the window for patching.\n",
    "        step: Step size for patching.\n",
    "        save_file_name: Base name for saved files.\n",
    "        save_file_path: Directory where files will be saved.\n",
    "        generate_image: Flag to generate individual patch images.\n",
    "        generate_whole_image: Flag to generate a whole image from patches.\n",
    "        padding: Apply padding to patches.\n",
    "        filter_window_size: Window size for filtering in patch processing.\n",
    "        registration: Apply registration to patches.\n",
    "        smooth: Apply smoothing to patches.\n",
    "        smooth_method: Smoothing method to be used.\n",
    "        save_format: Format for saving the images.\n",
    "\n",
    "    Returns:\n",
    "        Tuple of number of rows and columns in the processed image.\n",
    "    \"\"\"\n",
    "    \n",
    "    step = xy_window_size\n",
    "    padding = True\n",
    "    z, x, y, c = img.shape\n",
    "    window_shape = [z, xy_window_size, xy_window_size, c]\n",
    "    x_cols, x_pad = calc_pad_parms(x, xy_window_size, step)\n",
    "    y_rows, y_pad = calc_pad_parms(y, xy_window_size, step)\n",
    "\n",
    "    whole_image = np.zeros((x_cols * xy_window_size, y_rows * xy_window_size, 3), dtype='uint8')\n",
    "\n",
    "    patch_num = y_rows * x_cols\n",
    "    start_time = time.time()\n",
    "\n",
    "    for count, (y_row, x_col) in enumerate(itertools.product(range(y_rows), range(x_cols)), 1):\n",
    "        img_slice = process_patch(img, window_shape, x_col, y_row, step, padding, x_pad, y_pad)\n",
    "        processed_patch = apply_patch_processing(img_slice, filter_window_size, registration, smooth)\n",
    "        \n",
    "        whole_image[x_col * xy_window_size: (x_col + 1) * xy_window_size, \n",
    "                y_row * xy_window_size: (y_row + 1) * xy_window_size] = processed_patch\n",
    "\n",
    "        report_progress(count, patch_num, start_time, save_file_name)\n",
    "\n",
    "    del img\n",
    "    gc.collect()\n",
    "    \n",
    "    final_image_path = construct_image_path(save_file_name, save_file_path, 'WholeImage')\n",
    "    print('\\nSaving image')\n",
    "    whole_image = crop_content(whole_image)\n",
    "    writeTiff(whole_image, final_image_path)\n",
    "\n",
    "    print('-----Done-----\\n')\n",
    "    return y_rows, x_cols\n",
    "    \n",
    "def report_progress(current_count, total_count, start_time, save_file_name):\n",
    "    worked_time = (time.time() - start_time) / 60\n",
    "    progress = 100 * current_count / total_count\n",
    "    time_left = worked_time / current_count * (total_count - current_count)\n",
    "    print(f'\\r{save_file_name}  {current_count}/{total_count} Progress: {progress:.2f}% | Run: {worked_time:.2f} min | Est. Time Left: {time_left:.2f} min', end='')\n",
    "    \n",
    "def construct_image_path(save_file_name, save_file_path, suffix):\n",
    "    return os.path.join(save_file_path, f'{save_file_name}_{suffix}.jpg')"
   ]
  },
  {
   "cell_type": "markdown",
   "id": "da574aef-2ad8-4bc0-bb84-42399708a616",
   "metadata": {},
   "source": [
    "# Single file work flow"
   ]
  },
  {
   "cell_type": "markdown",
   "id": "6b5e47bc-5b02-4f9d-a477-542a27327fd0",
   "metadata": {},
   "source": [
    "## One step (czi -> edof img)"
   ]
  },
  {
   "cell_type": "code",
   "execution_count": 22,
   "id": "628d0961-d9ed-46c4-8b85-a696f0c7b4e8",
   "metadata": {},
   "outputs": [],
   "source": [
    "folder_path = r'C:\\Users\\zhong\\Documents\\Python_Project\\EDOF'\n",
    "file_path = r'2023_11_20__12_58__0540.czi'\n",
    "file_path = os.path.join(folder_path, file_path)\n",
    "output_name = '2023_11_20__12_58__0540' \n",
    "output_path = r''\n",
    "\n",
    "scale_factor = 1\n",
    "z_range = 11\n",
    "patch_window_size = 4000\n",
    "filter_window_size = 200\n",
    "smooth = None\n",
    "registration = False\n",
    "\n",
    "# '''\n",
    "# smooth = \n",
    "# cv2.INTER_AREA,\n",
    "# cv2.INTER_BITS,\n",
    "# cv2.INTER_BITS2,\n",
    "# cv2.INTER_CUBIC,\n",
    "# cv2.INTER_LANCZOS4,\n",
    "# cv2.INTER_LINEAR,\n",
    "# cv2.INTER_LINEAR_EXACT,\n",
    "# cv2.INTER_NEAREST\n",
    "\n",
    "# https://stackoverflow.com/questions/23853632/which-kind-of-interpolation-best-for-resizing-image\n",
    "# '''\n",
    "\n"
   ]
  },
  {
   "cell_type": "markdown",
   "id": "e0f1751a-5100-4bbe-bcf1-f4e3401fca5d",
   "metadata": {},
   "source": [
    "### split patch reading"
   ]
  },
  {
   "cell_type": "code",
   "execution_count": null,
   "id": "60c68722-f816-4ffa-a03e-2c16a4ea4873",
   "metadata": {},
   "outputs": [],
   "source": [
    "read_czi_generate_edof_img_patch(file_path, \n",
    "                                output_name=output_name, output_path=output_path,\n",
    "                                patch_window_factor=25, filter_window_size=200,\n",
    "                                registration=False, smooth=False)"
   ]
  },
  {
   "cell_type": "markdown",
   "id": "4918c4bd-a121-4f53-83c0-e08b2b2f6c1a",
   "metadata": {
    "jp-MarkdownHeadingCollapsed": true
   },
   "source": [
    "### full layer reading"
   ]
  },
  {
   "cell_type": "code",
   "execution_count": 22,
   "id": "4ef62d68-35a4-4f1a-9cc0-bece839e7e16",
   "metadata": {
    "editable": true,
    "slideshow": {
     "slide_type": ""
    },
    "tags": []
   },
   "outputs": [
    {
     "name": "stdout",
     "output_type": "stream",
     "text": [
      "File:E:\\20231120_ks NSRL-22A\\2023_11_20__13_03__0564.czi Processing\n",
      "Multi Z Layer Img 1/2\n",
      "Reading:\t Progress:100.00% \t| Run:6.61 min \t| est Time left:0.00 min \t| 11/11...Finished\n",
      "Concatenating...Finished\n",
      "EDOF:\t Progress:100.00% \t| Run:1.96 min \t| est Time left:0.00 min \t| 64/64...Finished\n",
      "Croping...Saving...Done\n",
      "Multi Z Layer Img 2/2\n",
      "Reading:\t Progress:100.00% \t| Run:8.00 min \t| est Time left:0.00 min \t| 11/11...Finished\n",
      "Concatenating...Finished\n",
      "EDOF:\t Progress:100.00% \t| Run:1.73 min \t| est Time left:0.00 min \t| 60/60...Finished\n",
      "Croping...Saving...Done\n",
      "---------------------------\n"
     ]
    },
    {
     "data": {
      "text/plain": [
       "0"
      ]
     },
     "execution_count": 22,
     "metadata": {},
     "output_type": "execute_result"
    }
   ],
   "source": [
    "read_czi_generate_edof_img(\n",
    "                            file_path, \n",
    "                            output_name=output_name, \n",
    "                            output_path=output_path,\n",
    "                            z_range=z_range,\n",
    "                            scale_factor=scale_factor,\n",
    "                            patch_window_size=patch_window_size,\n",
    "                            filter_window_size=200,\n",
    "                            registration=False, \n",
    "                            smooth=smooth\n",
    ")"
   ]
  },
  {
   "cell_type": "markdown",
   "id": "81d136b8-9859-4c20-996c-3982be1c13d0",
   "metadata": {
    "jp-MarkdownHeadingCollapsed": true
   },
   "source": [
    "## Two steps (czi -> multi z layers img -> edof img)"
   ]
  },
  {
   "cell_type": "code",
   "execution_count": 17,
   "id": "0df83158-99f0-49b5-a731-1f7ae6e02209",
   "metadata": {},
   "outputs": [],
   "source": [
    "folder_path = r'E:\\20231120_ks NSRL-22A'\n",
    "file_path = r'2023_11_20__13_03__0565.czi'\n",
    "file_path = os.path.join(folder_path, file_path)\n",
    "output_name = '2023_11_20__13_03__0565' \n",
    "output_path = r'E:\\20231120_ks NSRL-22A\\flatten'\n",
    "\n",
    "scale_factor = 1\n",
    "z_range = 11"
   ]
  },
  {
   "cell_type": "code",
   "execution_count": 18,
   "id": "5df6fe9a-e2c1-4106-b3e2-6c4101b5bfd7",
   "metadata": {},
   "outputs": [
    {
     "name": "stdout",
     "output_type": "stream",
     "text": [
      "File:E:\\20231120_ks NSRL-22A\\2023_11_20__13_03__0565.czi Processing\n",
      "2 output image(s)\n",
      "2023_11_20__13_03__0565  22/22 Progress:100.00% | Run:6.98 min | est Time left:0.00 min\n",
      "------Done------\n"
     ]
    }
   ],
   "source": [
    "img_num = read_czi_generate_scale_img(\n",
    "                                        file_path, \n",
    "                                        z_range, \n",
    "                                        output_name=output_name, \n",
    "                                        output_path=output_path,\n",
    "                                        scale_factor=scale_factor\n",
    ")"
   ]
  },
  {
   "cell_type": "code",
   "execution_count": 20,
   "id": "ae48909d-4baf-45e0-9f94-e89562544568",
   "metadata": {},
   "outputs": [],
   "source": [
    "patch_window_size = 4000\n",
    "filter_window_size = 200\n",
    "smooth = None\n",
    "# '''\n",
    "# smooth = \n",
    "# cv2.INTER_AREA,\n",
    "# cv2.INTER_BITS,\n",
    "# cv2.INTER_BITS2,\n",
    "# cv2.INTER_CUBIC,\n",
    "# cv2.INTER_LANCZOS4,\n",
    "# cv2.INTER_LINEAR,\n",
    "# cv2.INTER_LINEAR_EXACT,\n",
    "# cv2.INTER_NEAREST\n",
    "\n",
    "# https://stackoverflow.com/questions/23853632/which-kind-of-interpolation-best-for-resizing-image\n",
    "# '''"
   ]
  },
  {
   "cell_type": "code",
   "execution_count": 25,
   "id": "83dbe386-3ac9-4093-b091-3ffc66a31071",
   "metadata": {},
   "outputs": [
    {
     "name": "stdout",
     "output_type": "stream",
     "text": [
      "Loading the file...Finish\n",
      "2023_11_20__13_03__0565_S1  20/20 Progress: 100.00% | Run: 0.59 min | Est. Time Left: 0.00 min\n",
      "Saving image\n",
      "-----Done-----\n",
      "\n",
      "Loading the file...Finish\n",
      "2023_11_20__13_03__0565_S2  20/20 Progress: 100.00% | Run: 0.58 min | Est. Time Left: 0.00 min\n",
      "Saving image\n",
      "-----Done-----\n",
      "\n"
     ]
    }
   ],
   "source": [
    "for num in range(img_num):\n",
    "    num += 1\n",
    "    img_name = '{}_S{}.tif'.format(output_name,num)\n",
    "    img_path = os.path.join(output_path,img_name)\n",
    "    print('Loading the file...',end='')\n",
    "    img = readTiffStk(img_path,move_axis=False)\n",
    "    print('Finish')\n",
    "\n",
    "    save_file_name = '{}_S{}'.format(output_name,num)\n",
    "    save_file_path = output_path\n",
    "\n",
    "    y_rows,x_cols = edof_multi_zLayer_img(\n",
    "                                            img,\n",
    "                                            patch_window_size,\n",
    "                                            save_file_name,\n",
    "                                            save_file_path,\n",
    "                                            filter_window_size=filter_window_size,\n",
    "                                            registration=False,\n",
    "                                            smooth=smooth\n",
    "    )\n",
    "\n",
    "    del img\n",
    "    gc.collect()\n",
    "    os.remove(img_path)"
   ]
  },
  {
   "cell_type": "markdown",
   "id": "8b98097d-6a04-48c4-b2b3-ca52001be6ef",
   "metadata": {},
   "source": [
    "# Folder workflow"
   ]
  },
  {
   "cell_type": "markdown",
   "id": "9a9918ca-6e9e-4277-bd27-f6bac7b40621",
   "metadata": {
    "jp-MarkdownHeadingCollapsed": true
   },
   "source": [
    "## Two steps"
   ]
  },
  {
   "cell_type": "code",
   "execution_count": null,
   "id": "efcd76d7-9d1a-4757-8a18-a0a5eccaa691",
   "metadata": {},
   "outputs": [],
   "source": [
    "folder_path = r'E:\\20231120_ks NSRL-22A'\n",
    "folder_list = os.listdir(folder_path)\n",
    "folder_list = [i for i in folder_list if i.split('.')[-1]=='czi']\n",
    "\n",
    "output_path = r'E:\\20231120_ks NSRL-22A\\flatten'\n",
    "\n",
    "z_range = 11\n",
    "scale_factor = 1\n",
    "\n",
    "patch_window_size = 4000\n",
    "patch_window_step = 4000\n",
    "filter_window_size = 200\n",
    "smooth = False\n",
    "smooth_method = cv2.INTER_CUBIC"
   ]
  },
  {
   "cell_type": "code",
   "execution_count": null,
   "id": "ae84a26a-1bf8-4345-ba90-d0f9bf5bf0e5",
   "metadata": {},
   "outputs": [],
   "source": [
    "for file_name in folder_list:\n",
    "    full_file_path = os.path.join(folder_path,file_name)\n",
    "    output_name = file_name.split('.')[0]\n",
    "    \n",
    "    img_num = read_scale_save_czi2tiff(full_file_path, \n",
    "                                       z_range, \n",
    "                                       output_name=output_name, \n",
    "                                       output_path=output_path,\n",
    "                                       scale_factor=scale_factor)\n",
    "    \n",
    "    for num in range(img_num):\n",
    "        num += 1\n",
    "        img_name = '{}_S{}.tif'.format(output_name,num)\n",
    "        img_path = os.path.join(output_path,img_name)\n",
    "        img = readTiffStk(img_path,move_axis=False)\n",
    "\n",
    "        save_file_name = '{}_S{}'.format(output_name,num)\n",
    "        save_file_path = output_path\n",
    "\n",
    "        y_rows,x_cols = patchiProcessDirectSave(\n",
    "                                            img,\n",
    "                                            patch_window_size,\n",
    "                                            patch_window_step,\n",
    "                                            save_file_name,\n",
    "                                            save_file_path,\n",
    "                                            generate_image=False,\n",
    "                                            generate_whole_image=True,\n",
    "                                            padding=True,\n",
    "                                            filter_window_size=filter_window_size, \n",
    "                                            smooth=smooth, \n",
    "                                            smooth_method=smooth_method, \n",
    "                                            save_format='jpg')\n",
    "\n",
    "        del img\n",
    "        gc.collect()\n",
    "        os.remove(img_path)"
   ]
  },
  {
   "cell_type": "markdown",
   "id": "78d03088-b834-4f18-b48e-b9c66355cca9",
   "metadata": {},
   "source": [
    "## One step"
   ]
  },
  {
   "cell_type": "markdown",
   "id": "4f7dc8c6-73c9-4f50-8b2d-ed1bd10db6bd",
   "metadata": {
    "jp-MarkdownHeadingCollapsed": true
   },
   "source": [
    "### Full layer"
   ]
  },
  {
   "cell_type": "code",
   "execution_count": 33,
   "id": "5a3a3f7c-4844-4c03-b818-5387fcf25abd",
   "metadata": {},
   "outputs": [],
   "source": [
    "folder_path = r'E:\\20231124_ks_RR10_BNL2_BNL3'\n",
    "folder_list = os.listdir(folder_path)\n",
    "folder_list = [i for i in folder_list if i.split('.')[-1]=='czi']\n",
    "\n",
    "output_path = r'E:\\20231124_ks_RR10_BNL2_BNL3\\flatten'\n",
    "\n",
    "z_range = 11\n",
    "scale_factor = 1\n",
    "\n",
    "patch_window_size = 4000\n",
    "filter_window_size = 200\n",
    "smooth = False\n",
    "registration = False\n",
    "# smooth_method = cv2.INTER_CUBIC"
   ]
  },
  {
   "cell_type": "code",
   "execution_count": 34,
   "id": "837aaa6a-9b5c-4bc2-8fbc-968c2d9ce356",
   "metadata": {
    "scrolled": true
   },
   "outputs": [
    {
     "name": "stdout",
     "output_type": "stream",
     "text": [
      "File:E:\\20231124_ks_RR10_BNL2_BNL3\\2023_11_24__12_28__0674.czi Processing\n",
      "Multi Z Layer Img 1/2\n",
      "Reading:\t Progress:100.00% | Run:2.99 min | est Time left:0.00 min | 11/11...Finished\n",
      "\t\tConcatenating...Finished\n",
      "EDOF:\t\t Progress:100.00% | Run:1.05 min | est Time left:0.00 min | 36/36...Finished\n",
      "\t\tCroping...Saving...Done\n",
      "Multi Z Layer Img 2/2\n",
      "Adjusting img size by shrink 10 pixels\n",
      "Reading:\t Progress:100.00% | Run:2.97 min | est Time left:0.00 min | 11/11...Finished\n",
      "\t\tConcatenating...Finished\n",
      "EDOF:\t\t Progress:100.00% | Run:0.81 min | est Time left:0.00 min | 28/28...Finished\n",
      "\t\tCroping...Saving...Done\n",
      "---------------------------\n",
      "File:E:\\20231124_ks_RR10_BNL2_BNL3\\2023_11_24__12_28__0675.czi Processing\n",
      "Multi Z Layer Img 1/1\n",
      "Reading:\t Progress:100.00% | Run:5.60 min | est Time left:0.00 min | 11/11...Finished\n",
      "\t\tConcatenating...Finished\n",
      "EDOF:\t\t Progress:100.00% | Run:1.23 min | est Time left:0.00 min | 42/42...Finished\n",
      "\t\tCroping...Saving...Done\n",
      "---------------------------\n",
      "File:E:\\20231124_ks_RR10_BNL2_BNL3\\2023_11_24__12_28__0676.czi Processing\n",
      "Multi Z Layer Img 1/1\n",
      "Reading:\t Progress:100.00% | Run:5.94 min | est Time left:0.00 min | 11/11...Finished\n",
      "\t\tConcatenating...Finished\n",
      "EDOF:\t\t Progress:100.00% | Run:1.25 min | est Time left:0.00 min | 42/42...Finished\n",
      "\t\tCroping...Saving...Done\n",
      "---------------------------\n",
      "File:E:\\20231124_ks_RR10_BNL2_BNL3\\2023_11_24__12_29__0677.czi Processing\n",
      "Multi Z Layer Img 1/1\n",
      "Reading:\t Progress:100.00% | Run:7.43 min | est Time left:0.00 min | 11/11...Finished\n",
      "\t\tConcatenating...Finished\n",
      "EDOF:\t\t Progress:100.00% | Run:6.11 min | est Time left:0.00 min | 130/130...Finished\n",
      "\t\tCroping...Saving...Done\n",
      "---------------------------\n",
      "File:E:\\20231124_ks_RR10_BNL2_BNL3\\2023_11_24__12_29__0678.czi Processing\n",
      "Multi Z Layer Img 1/2\n",
      "Reading:\t Progress:100.00% | Run:2.61 min | est Time left:0.00 min | 11/11...Finished\n",
      "\t\tConcatenating...Finished\n",
      "EDOF:\t\t Progress:100.00% | Run:0.83 min | est Time left:0.00 min | 28/28...Finished\n",
      "\t\tCroping...Saving...Done\n",
      "Multi Z Layer Img 2/2\n",
      "Reading:\t Progress:100.00% | Run:2.38 min | est Time left:0.00 min | 11/11...Finished\n",
      "\t\tConcatenating...Finished\n",
      "EDOF:\t\t Progress:100.00% | Run:0.71 min | est Time left:0.00 min | 24/24...Finished\n",
      "\t\tCroping...Saving...Done\n",
      "---------------------------\n",
      "File:E:\\20231124_ks_RR10_BNL2_BNL3\\2023_11_24__12_29__0679.czi Processing\n",
      "Multi Z Layer Img 1/1\n",
      "Reading:\t Progress:100.00% | Run:6.32 min | est Time left:0.00 min | 11/11...Finished\n",
      "\t\tConcatenating...Finished\n",
      "EDOF:\t\t Progress:100.00% | Run:1.63 min | est Time left:0.00 min | 49/49...Finished\n",
      "\t\tCroping...Saving...Done\n",
      "---------------------------\n",
      "File:E:\\20231124_ks_RR10_BNL2_BNL3\\2023_11_24__12_29__0680.czi Processing\n",
      "Multi Z Layer Img 1/1\n",
      "Reading:\t Progress:100.00% | Run:5.84 min | est Time left:0.00 min | 11/11...Finished\n",
      "\t\tConcatenating...Finished\n",
      "EDOF:\t\t Progress:100.00% | Run:1.23 min | est Time left:0.00 min | 42/42...Finished\n",
      "\t\tCroping...Saving...Done\n",
      "---------------------------\n",
      "File:E:\\20231124_ks_RR10_BNL2_BNL3\\2023_11_24__12_29__0681.czi Processing\n",
      "Multi Z Layer Img 1/1\n",
      "Reading:\t Progress:100.00% | Run:5.79 min | est Time left:0.00 min | 11/11...Finished\n",
      "\t\tConcatenating...Finished\n",
      "EDOF:\t\t Progress:100.00% | Run:1.21 min | est Time left:0.00 min | 42/42...Finished\n",
      "\t\tCroping...Saving...Done\n",
      "---------------------------\n",
      "File:E:\\20231124_ks_RR10_BNL2_BNL3\\2023_11_24__12_30__0682.czi Processing\n",
      "Multi Z Layer Img 1/2\n",
      "Reading:\t Progress:100.00% | Run:3.19 min | est Time left:0.00 min | 11/11...Finished\n",
      "\t\tConcatenating...Finished\n",
      "EDOF:\t\t Progress:100.00% | Run:0.85 min | est Time left:0.00 min | 28/28...Finished\n",
      "\t\tCroping...Saving...Done\n",
      "Multi Z Layer Img 2/2\n",
      "Reading:\t Progress:100.00% | Run:3.25 min | est Time left:0.00 min | 11/11...Finished\n",
      "\t\tConcatenating...Finished\n",
      "EDOF:\t\t Progress:100.00% | Run:0.86 min | est Time left:0.00 min | 30/30...Finished\n",
      "\t\tCroping...Saving...Done\n",
      "---------------------------\n",
      "File:E:\\20231124_ks_RR10_BNL2_BNL3\\2023_11_24__12_30__0683.czi Processing\n",
      "Multi Z Layer Img 1/2\n",
      "Reading:\t Progress:100.00% | Run:2.82 min | est Time left:0.00 min | 11/11...Finished\n",
      "\t\tConcatenating...Finished\n",
      "EDOF:\t\t Progress:100.00% | Run:0.70 min | est Time left:0.00 min | 24/24...Finished\n",
      "\t\tCroping...Saving...Done\n",
      "Multi Z Layer Img 2/2\n",
      "Reading:\t Progress:100.00% | Run:2.72 min | est Time left:0.00 min | 11/11...Finished\n",
      "\t\tConcatenating...Finished\n",
      "EDOF:\t\t Progress:100.00% | Run:0.71 min | est Time left:0.00 min | 24/24...Finished\n",
      "\t\tCroping...Saving...Done\n",
      "---------------------------\n",
      "File:E:\\20231124_ks_RR10_BNL2_BNL3\\2023_11_24__12_30__0684.czi Processing\n",
      "Multi Z Layer Img 1/2\n",
      "Reading:\t Progress:100.00% | Run:2.86 min | est Time left:0.00 min | 11/11...Finished\n",
      "\t\tConcatenating...Finished\n",
      "EDOF:\t\t Progress:100.00% | Run:0.88 min | est Time left:0.00 min | 30/30...Finished\n",
      "\t\tCroping...Saving...Done\n",
      "Multi Z Layer Img 2/2\n",
      "Reading:\t Progress:100.00% | Run:2.81 min | est Time left:0.00 min | 11/11...Finished\n",
      "\t\tConcatenating...Finished\n",
      "EDOF:\t\t Progress:100.00% | Run:0.91 min | est Time left:0.00 min | 30/30...Finished\n",
      "\t\tCroping...Saving...Done\n",
      "---------------------------\n",
      "File:E:\\20231124_ks_RR10_BNL2_BNL3\\2023_11_24__12_30__0685.czi Processing\n",
      "Multi Z Layer Img 1/2\n",
      "Reading:\t Progress:100.00% | Run:1.99 min | est Time left:0.00 min | 11/11...Finished\n",
      "\t\tConcatenating...Finished\n",
      "EDOF:\t\t Progress:100.00% | Run:0.82 min | est Time left:0.00 min | 28/28...Finished\n",
      "\t\tCroping...Saving...Done\n",
      "Multi Z Layer Img 2/2\n",
      "Reading:\t Progress:100.00% | Run:2.22 min | est Time left:0.00 min | 11/11...Finished\n",
      "\t\tConcatenating...Finished\n",
      "EDOF:\t\t Progress:100.00% | Run:0.67 min | est Time left:0.00 min | 35/35...Finished\n",
      "\t\tCroping...Saving...Done\n",
      "---------------------------\n",
      "File:E:\\20231124_ks_RR10_BNL2_BNL3\\2023_11_24__12_30__0686.czi Processing\n",
      "Multi Z Layer Img 1/2\n",
      "Reading:\t Progress:100.00% | Run:2.11 min | est Time left:0.00 min | 11/11...Finished\n",
      "\t\tConcatenating...Finished\n",
      "EDOF:\t\t Progress:100.00% | Run:0.55 min | est Time left:0.00 min | 28/28...Finished\n",
      "\t\tCroping...Saving...Done\n",
      "Multi Z Layer Img 2/2\n",
      "Reading:\t Progress:100.00% | Run:2.08 min | est Time left:0.00 min | 11/11...Finished\n",
      "\t\tConcatenating...Finished\n",
      "EDOF:\t\t Progress:100.00% | Run:0.80 min | est Time left:0.00 min | 28/28...Finished\n",
      "\t\tCroping...Saving...Done\n",
      "---------------------------\n",
      "File:E:\\20231124_ks_RR10_BNL2_BNL3\\2023_11_24__12_30__0687.czi Processing\n",
      "Multi Z Layer Img 1/2\n",
      "Reading:\t Progress:100.00% | Run:1.68 min | est Time left:0.00 min | 11/11...Finished\n",
      "\t\tConcatenating...Finished\n",
      "EDOF:\t\t Progress:100.00% | Run:0.97 min | est Time left:0.00 min | 35/35...Finished\n",
      "\t\tCroping...Saving...Done\n",
      "Multi Z Layer Img 2/2\n",
      "Reading:\t Progress:100.00% | Run:3.17 min | est Time left:0.00 min | 11/11...Finished\n",
      "\t\tConcatenating...Finished\n",
      "EDOF:\t\t Progress:100.00% | Run:0.82 min | est Time left:0.00 min | 28/28...Finished\n",
      "\t\tCroping...Saving...Done\n",
      "---------------------------\n",
      "File:E:\\20231124_ks_RR10_BNL2_BNL3\\2023_11_24__12_30__0688.czi Processing\n",
      "Multi Z Layer Img 1/2\n",
      "Adjusting img size by shrink 10 pixels\n",
      "Reading:\t Progress:100.00% | Run:3.21 min | est Time left:0.00 min | 11/11...Finished\n",
      "\t\tConcatenating...Finished\n",
      "EDOF:\t\t Progress:100.00% | Run:0.81 min | est Time left:0.00 min | 28/28...Finished\n",
      "\t\tCroping...Saving...Done\n",
      "Multi Z Layer Img 2/2\n",
      "Reading:\t Progress:100.00% | Run:3.28 min | est Time left:0.00 min | 11/11...Finished\n",
      "\t\tConcatenating...Finished\n",
      "EDOF:\t\t Progress:100.00% | Run:0.81 min | est Time left:0.00 min | 28/28...Finished\n",
      "\t\tCroping...Saving...Done\n",
      "---------------------------\n",
      "File:E:\\20231124_ks_RR10_BNL2_BNL3\\2023_11_24__12_31__0689.czi Processing\n",
      "Multi Z Layer Img 1/2\n",
      "Reading:\t Progress:100.00% | Run:3.40 min | est Time left:0.00 min | 11/11...Finished\n",
      "\t\tConcatenating...Finished\n",
      "EDOF:\t\t Progress:100.00% | Run:0.86 min | est Time left:0.00 min | 28/28...Finished\n",
      "\t\tCroping...Saving...Done\n",
      "Multi Z Layer Img 2/2\n",
      "Reading:\t Progress:100.00% | Run:3.48 min | est Time left:0.00 min | 11/11...Finished\n",
      "\t\tConcatenating...Finished\n",
      "EDOF:\t\t Progress:100.00% | Run:0.88 min | est Time left:0.00 min | 30/30...Finished\n",
      "\t\tCroping...Saving...Done\n",
      "---------------------------\n",
      "File:E:\\20231124_ks_RR10_BNL2_BNL3\\2023_11_24__12_31__0690.czi Processing\n",
      "Multi Z Layer Img 1/2\n",
      "Reading:\t Progress:100.00% | Run:2.68 min | est Time left:0.00 min | 11/11...Finished\n",
      "\t\tConcatenating...Finished\n",
      "EDOF:\t\t Progress:100.00% | Run:0.88 min | est Time left:0.00 min | 30/30...Finished\n",
      "\t\tCroping...Saving...Done\n",
      "Multi Z Layer Img 2/2\n",
      "Reading:\t Progress:100.00% | Run:2.65 min | est Time left:0.00 min | 11/11...Finished\n",
      "\t\tConcatenating...Finished\n",
      "EDOF:\t\t Progress:100.00% | Run:0.88 min | est Time left:0.00 min | 30/30...Finished\n",
      "\t\tCroping...Saving...Done\n",
      "---------------------------\n",
      "File:E:\\20231124_ks_RR10_BNL2_BNL3\\2023_11_24__12_31__0691.czi Processing\n",
      "Multi Z Layer Img 1/2\n",
      "Reading:\t Progress:100.00% | Run:2.68 min | est Time left:0.00 min | 11/11...Finished\n",
      "\t\tConcatenating...Finished\n",
      "EDOF:\t\t Progress:100.00% | Run:0.61 min | est Time left:0.00 min | 21/21...Finished\n",
      "\t\tCroping...Saving...Done\n",
      "Multi Z Layer Img 2/2\n",
      "Reading:\t Progress:100.00% | Run:2.61 min | est Time left:0.00 min | 11/11...Finished\n",
      "\t\tConcatenating...Finished\n",
      "EDOF:\t\t Progress:100.00% | Run:0.61 min | est Time left:0.00 min | 21/21...Finished\n",
      "\t\tCroping...Saving...Done\n",
      "---------------------------\n",
      "File:E:\\20231124_ks_RR10_BNL2_BNL3\\2023_11_24__12_31__0692.czi Processing\n",
      "Multi Z Layer Img 1/2\n",
      "Reading:\t Progress:100.00% | Run:3.35 min | est Time left:0.00 min | 11/11...Finished\n",
      "\t\tConcatenating...Finished\n",
      "EDOF:\t\t Progress:100.00% | Run:1.09 min | est Time left:0.00 min | 36/36...Finished\n",
      "\t\tCroping...Saving...Done\n",
      "Multi Z Layer Img 2/2\n",
      "Reading:\t Progress:100.00% | Run:3.07 min | est Time left:0.00 min | 11/11...Finished\n",
      "\t\tConcatenating...Finished\n",
      "EDOF:\t\t Progress:100.00% | Run:0.86 min | est Time left:0.00 min | 28/28...Finished\n",
      "\t\tCroping...Saving...Done\n",
      "---------------------------\n",
      "File:E:\\20231124_ks_RR10_BNL2_BNL3\\2023_11_24__12_31__0693.czi Processing\n",
      "Multi Z Layer Img 1/2\n",
      "Reading:\t Progress:100.00% | Run:2.97 min | est Time left:0.00 min | 11/11...Finished\n",
      "\t\tConcatenating...Finished\n",
      "EDOF:\t\t Progress:100.00% | Run:0.91 min | est Time left:0.00 min | 30/30...Finished\n",
      "\t\tCroping...Saving...Done\n",
      "Multi Z Layer Img 2/2\n",
      "Reading:\t Progress:100.00% | Run:2.81 min | est Time left:0.00 min | 11/11...Finished\n",
      "\t\tConcatenating...Finished\n",
      "EDOF:\t\t Progress:100.00% | Run:0.91 min | est Time left:0.00 min | 30/30...Finished\n",
      "\t\tCroping...Saving...Done\n",
      "---------------------------\n",
      "File:E:\\20231124_ks_RR10_BNL2_BNL3\\2023_11_24__12_32__0694.czi Processing\n",
      "Multi Z Layer Img 1/1\n",
      "Reading:\t Progress:100.00% | Run:5.63 min | est Time left:0.00 min | 11/11...Finished\n",
      "\t\tConcatenating...Finished\n",
      "EDOF:\t\t Progress:100.00% | Run:1.48 min | est Time left:0.00 min | 49/49...Finished\n",
      "\t\tCroping...Saving...Done\n",
      "---------------------------\n",
      "File:E:\\20231124_ks_RR10_BNL2_BNL3\\2023_11_24__12_32__0695.czi Processing\n",
      "Multi Z Layer Img 1/1\n",
      "Reading:\t Progress:100.00% | Run:5.24 min | est Time left:0.00 min | 11/11...Finished\n",
      "\t\tConcatenating...Finished\n",
      "EDOF:\t\t Progress:100.00% | Run:1.04 min | est Time left:0.00 min | 36/36...Finished\n",
      "\t\tCroping...Saving...Done\n",
      "---------------------------\n",
      "File:E:\\20231124_ks_RR10_BNL2_BNL3\\2023_11_24__12_32__0696.czi Processing\n",
      "Multi Z Layer Img 1/2\n",
      "Reading:\t Progress:100.00% | Run:2.86 min | est Time left:0.00 min | 11/11...Finished\n",
      "\t\tConcatenating...Finished\n",
      "EDOF:\t\t Progress:100.00% | Run:0.87 min | est Time left:0.00 min | 30/30...Finished\n",
      "\t\tCroping...Saving...Done\n",
      "Multi Z Layer Img 2/2\n",
      "Reading:\t Progress:100.00% | Run:2.95 min | est Time left:0.00 min | 11/11...Finished\n",
      "\t\tConcatenating...Finished\n",
      "EDOF:\t\t Progress:100.00% | Run:0.87 min | est Time left:0.00 min | 30/30...Finished\n",
      "\t\tCroping...Saving...Done\n",
      "---------------------------\n",
      "File:E:\\20231124_ks_RR10_BNL2_BNL3\\2023_11_24__12_32__0697.czi Processing\n",
      "Multi Z Layer Img 1/2\n",
      "Reading:\t Progress:100.00% | Run:3.25 min | est Time left:0.00 min | 11/11...Finished\n",
      "\t\tConcatenating...Finished\n",
      "EDOF:\t\t Progress:100.00% | Run:0.80 min | est Time left:0.00 min | 28/28...Finished\n",
      "\t\tCroping...Saving...Done\n",
      "Multi Z Layer Img 2/2\n",
      "Reading:\t Progress:100.00% | Run:3.39 min | est Time left:0.00 min | 11/11...Finished\n",
      "\t\tConcatenating...Finished\n",
      "EDOF:\t\t Progress:100.00% | Run:1.02 min | est Time left:0.00 min | 35/35...Finished\n",
      "\t\tCroping...Saving...Done\n",
      "---------------------------\n",
      "File:E:\\20231124_ks_RR10_BNL2_BNL3\\2023_11_24__12_32__0698.czi Processing\n",
      "Multi Z Layer Img 1/1\n",
      "Reading:\t Progress:100.00% | Run:5.41 min | est Time left:0.00 min | 11/11...Finished\n",
      "\t\tConcatenating...Finished\n",
      "EDOF:\t\t Progress:100.00% | Run:1.22 min | est Time left:0.00 min | 42/42...Finished\n",
      "\t\tCroping...Saving...Done\n",
      "---------------------------\n",
      "File:E:\\20231124_ks_RR10_BNL2_BNL3\\2023_11_24__12_32__0699.czi Processing\n",
      "Multi Z Layer Img 1/1\n",
      "Reading:\t Progress:100.00% | Run:5.19 min | est Time left:0.00 min | 11/11...Finished\n",
      "\t\tConcatenating...Finished\n",
      "EDOF:\t\t Progress:100.00% | Run:1.22 min | est Time left:0.00 min | 42/42...Finished\n",
      "\t\tCroping...Saving...Done\n",
      "---------------------------\n",
      "File:E:\\20231124_ks_RR10_BNL2_BNL3\\2023_11_24__12_32__0700.czi Processing\n",
      "Multi Z Layer Img 1/1\n",
      "Adjusting img size by shrink 10 pixels\n",
      "Reading:\t Progress:100.00% | Run:5.84 min | est Time left:0.00 min | 11/11...Finished\n",
      "\t\tConcatenating...Finished\n",
      "EDOF:\t\t Progress:100.00% | Run:1.21 min | est Time left:0.00 min | 42/42...Finished\n",
      "\t\tCroping...Saving...Done\n",
      "---------------------------\n",
      "File:E:\\20231124_ks_RR10_BNL2_BNL3\\2023_11_24__12_33__0701.czi Processing\n",
      "Multi Z Layer Img 1/1\n",
      "Reading:\t Progress:100.00% | Run:5.07 min | est Time left:0.00 min | 11/11...Finished\n",
      "\t\tConcatenating...Finished\n",
      "EDOF:\t\t Progress:100.00% | Run:1.05 min | est Time left:0.00 min | 36/36...Finished\n",
      "\t\tCroping...Saving...Done\n",
      "---------------------------\n",
      "File:E:\\20231124_ks_RR10_BNL2_BNL3\\2023_11_24__12_33__0702.czi Processing\n",
      "Multi Z Layer Img 1/1\n",
      "Reading:\t Progress:100.00% | Run:5.11 min | est Time left:0.00 min | 11/11...Finished\n",
      "\t\tConcatenating...Finished\n",
      "EDOF:\t\t Progress:100.00% | Run:1.04 min | est Time left:0.00 min | 36/36...Finished\n",
      "\t\tCroping...Saving...Done\n",
      "---------------------------\n",
      "File:E:\\20231124_ks_RR10_BNL2_BNL3\\2023_11_24__12_33__0703.czi Processing\n",
      "Multi Z Layer Img 1/1\n",
      "Reading:\t Progress:100.00% | Run:4.88 min | est Time left:0.00 min | 11/11...Finished\n",
      "\t\tConcatenating...Finished\n",
      "EDOF:\t\t Progress:100.00% | Run:1.08 min | est Time left:0.00 min | 36/36...Finished\n",
      "\t\tCroping...Saving...Done\n",
      "---------------------------\n",
      "File:E:\\20231124_ks_RR10_BNL2_BNL3\\2023_11_24__12_33__0704.czi Processing\n",
      "Multi Z Layer Img 1/1\n",
      "Reading:\t Progress:100.00% | Run:5.06 min | est Time left:0.00 min | 11/11...Finished\n",
      "\t\tConcatenating...Finished\n",
      "EDOF:\t\t Progress:100.00% | Run:1.23 min | est Time left:0.00 min | 42/42...Finished\n",
      "\t\tCroping...Saving...Done\n",
      "---------------------------\n",
      "File:E:\\20231124_ks_RR10_BNL2_BNL3\\2023_11_24__12_33__0705.czi Processing\n",
      "Multi Z Layer Img 1/1\n",
      "Reading:\t Progress:100.00% | Run:5.61 min | est Time left:0.00 min | 11/11...Finished\n",
      "\t\tConcatenating...Finished\n",
      "EDOF:\t\t Progress:100.00% | Run:1.23 min | est Time left:0.00 min | 42/42...Finished\n",
      "\t\tCroping...Saving...Done\n",
      "---------------------------\n",
      "File:E:\\20231124_ks_RR10_BNL2_BNL3\\2023_11_24__12_34__0706.czi Processing\n",
      "Multi Z Layer Img 1/1\n",
      "Reading:\t Progress:100.00% | Run:4.82 min | est Time left:0.00 min | 11/11...Finished\n",
      "\t\tConcatenating...Finished\n",
      "EDOF:\t\t Progress:100.00% | Run:1.22 min | est Time left:0.00 min | 42/42...Finished\n",
      "\t\tCroping...Saving...Done\n",
      "---------------------------\n",
      "File:E:\\20231124_ks_RR10_BNL2_BNL3\\2023_11_24__12_34__0707.czi Processing\n",
      "Multi Z Layer Img 1/2\n",
      "Reading:\t Progress:100.00% | Run:5.93 min | est Time left:0.00 min | 11/11...Finished\n",
      "\t\tConcatenating...Finished\n",
      "EDOF:\t\t Progress:100.00% | Run:1.22 min | est Time left:0.00 min | 42/42...Finished\n",
      "\t\tCroping...Saving...Done\n",
      "Multi Z Layer Img 2/2\n",
      "Reading:\t Progress:100.00% | Run:4.90 min | est Time left:0.00 min | 11/11...Finished\n",
      "\t\tConcatenating...Finished\n",
      "EDOF:\t\t Progress:100.00% | Run:3.98 min | est Time left:0.00 min | 112/112...Finished\n",
      "\t\tCroping...Saving...Done\n",
      "---------------------------\n",
      "File:E:\\20231124_ks_RR10_BNL2_BNL3\\2023_11_24__12_34__0708.czi Processing\n",
      "Multi Z Layer Img 1/1\n",
      "Reading:\t Progress:100.00% | Run:4.83 min | est Time left:0.00 min | 11/11...Finished\n",
      "\t\tConcatenating...Finished\n",
      "EDOF:\t\t Progress:100.00% | Run:1.22 min | est Time left:0.00 min | 42/42...Finished\n",
      "\t\tCroping...Saving...Done\n",
      "---------------------------\n",
      "File:E:\\20231124_ks_RR10_BNL2_BNL3\\2023_11_24__12_34__0709.czi Processing\n",
      "Multi Z Layer Img 1/1\n",
      "Reading:\t Progress:100.00% | Run:5.28 min | est Time left:0.00 min | 11/11...Finished\n",
      "\t\tConcatenating...Finished\n",
      "EDOF:\t\t Progress:100.00% | Run:1.22 min | est Time left:0.00 min | 42/42...Finished\n",
      "\t\tCroping...Saving...Done\n",
      "---------------------------\n",
      "File:E:\\20231124_ks_RR10_BNL2_BNL3\\2023_11_24__12_34__0710.czi Processing\n",
      "Multi Z Layer Img 1/1\n",
      "Reading:\t Progress:100.00% | Run:5.56 min | est Time left:0.00 min | 11/11...Finished\n",
      "\t\tConcatenating...Finished\n",
      "EDOF:\t\t Progress:100.00% | Run:1.22 min | est Time left:0.00 min | 42/42...Finished\n",
      "\t\tCroping...Saving...Done\n",
      "---------------------------\n",
      "File:E:\\20231124_ks_RR10_BNL2_BNL3\\2023_11_24__12_34__0711.czi Processing\n",
      "Multi Z Layer Img 1/1\n",
      "Reading:\t Progress:100.00% | Run:5.28 min | est Time left:0.00 min | 11/11...Finished\n",
      "\t\tConcatenating...Finished\n",
      "EDOF:\t\t Progress:100.00% | Run:1.23 min | est Time left:0.00 min | 42/42...Finished\n",
      "\t\tCroping...Saving...Done\n",
      "---------------------------\n",
      "File:E:\\20231124_ks_RR10_BNL2_BNL3\\2023_11_24__12_35__0712.czi Processing\n",
      "Multi Z Layer Img 1/1\n",
      "Reading:\t Progress:100.00% | Run:5.69 min | est Time left:0.00 min | 11/11...Finished\n",
      "\t\tConcatenating...Finished\n",
      "EDOF:\t\t Progress:100.00% | Run:1.21 min | est Time left:0.00 min | 42/42...Finished\n",
      "\t\tCroping...Saving...Done\n",
      "---------------------------\n",
      "File:E:\\20231124_ks_RR10_BNL2_BNL3\\2023_11_24__12_35__0713.czi Processing\n",
      "Multi Z Layer Img 1/1\n",
      "Reading:\t Progress:100.00% | Run:4.56 min | est Time left:0.00 min | 11/11...Finished\n",
      "\t\tConcatenating...Finished\n",
      "EDOF:\t\t Progress:100.00% | Run:1.06 min | est Time left:0.00 min | 36/36...Finished\n",
      "\t\tCroping...Saving...Done\n",
      "---------------------------\n",
      "File:E:\\20231124_ks_RR10_BNL2_BNL3\\2023_11_24__12_35__0714.czi Processing\n",
      "Multi Z Layer Img 1/2\n",
      "Reading:\t Progress:100.00% | Run:2.83 min | est Time left:0.00 min | 11/11...Finished\n",
      "\t\tConcatenating...Finished\n",
      "EDOF:\t\t Progress:100.00% | Run:0.69 min | est Time left:0.00 min | 24/24...Finished\n",
      "\t\tCroping...Saving...Done\n",
      "Multi Z Layer Img 2/2\n",
      "Reading:\t Progress:100.00% | Run:2.36 min | est Time left:0.00 min | 11/11...Finished\n",
      "\t\tConcatenating...Finished\n",
      "EDOF:\t\t Progress:100.00% | Run:0.81 min | est Time left:0.00 min | 30/30...Finished\n",
      "\t\tCroping...Saving...Done\n",
      "---------------------------\n",
      "File:E:\\20231124_ks_RR10_BNL2_BNL3\\2023_11_24__12_35__0715.czi Processing\n",
      "Multi Z Layer Img 1/1\n",
      "Reading:\t Progress:100.00% | Run:5.27 min | est Time left:0.00 min | 11/11...Finished\n",
      "\t\tConcatenating...Finished\n",
      "EDOF:\t\t Progress:100.00% | Run:1.46 min | est Time left:0.00 min | 49/49...Finished\n",
      "\t\tCroping...Saving...Done\n",
      "---------------------------\n",
      "File:E:\\20231124_ks_RR10_BNL2_BNL3\\2023_11_24__12_35__0716.czi Processing\n",
      "Multi Z Layer Img 1/1\n",
      "Reading:\t Progress:100.00% | Run:5.60 min | est Time left:0.00 min | 11/11...Finished\n",
      "\t\tConcatenating...Finished\n",
      "EDOF:\t\t Progress:100.00% | Run:1.28 min | est Time left:0.00 min | 42/42...Finished\n",
      "\t\tCroping...Saving...Done\n",
      "---------------------------\n",
      "File:E:\\20231124_ks_RR10_BNL2_BNL3\\2023_11_24__12_35__0717.czi Processing\n",
      "Multi Z Layer Img 1/1\n",
      "Reading:\t Progress:100.00% | Run:5.58 min | est Time left:0.00 min | 11/11...Finished\n",
      "\t\tConcatenating...Finished\n",
      "EDOF:\t\t Progress:100.00% | Run:1.25 min | est Time left:0.00 min | 42/42...Finished\n",
      "\t\tCroping...Saving...Done\n",
      "---------------------------\n",
      "File:E:\\20231124_ks_RR10_BNL2_BNL3\\2023_11_24__12_36__0718.czi Processing\n",
      "Multi Z Layer Img 1/2\n",
      "Reading:\t Progress:100.00% | Run:2.99 min | est Time left:0.00 min | 11/11...Finished\n",
      "\t\tConcatenating...Finished\n",
      "EDOF:\t\t Progress:100.00% | Run:0.88 min | est Time left:0.00 min | 30/30...Finished\n",
      "\t\tCroping...Saving...Done\n",
      "Multi Z Layer Img 2/2\n",
      "Reading:\t Progress:100.00% | Run:1.95 min | est Time left:0.00 min | 11/11...Finished\n",
      "\t\tConcatenating...Finished\n",
      "EDOF:\t\t Progress:100.00% | Run:0.58 min | est Time left:0.00 min | 30/30...Finished\n",
      "\t\tCroping...Saving...Done\n",
      "---------------------------\n",
      "File:E:\\20231124_ks_RR10_BNL2_BNL3\\2023_11_24__12_36__0719.czi Processing\n",
      "Multi Z Layer Img 1/1\n",
      "Reading:\t Progress:100.00% | Run:4.74 min | est Time left:0.00 min | 11/11...Finished\n",
      "\t\tConcatenating...Finished\n",
      "EDOF:\t\t Progress:100.00% | Run:1.24 min | est Time left:0.00 min | 42/42...Finished\n",
      "\t\tCroping...Saving...Done\n",
      "---------------------------\n",
      "File:E:\\20231124_ks_RR10_BNL2_BNL3\\2023_11_24__12_36__0720.czi Processing\n",
      "Multi Z Layer Img 1/2\n",
      "Reading:\t Progress:100.00% | Run:3.12 min | est Time left:0.00 min | 11/11...Finished\n",
      "\t\tConcatenating...Finished\n",
      "EDOF:\t\t Progress:100.00% | Run:0.87 min | est Time left:0.00 min | 30/30...Finished\n",
      "\t\tCroping...Saving...Done\n",
      "Multi Z Layer Img 2/2\n",
      "Reading:\t Progress:100.00% | Run:3.09 min | est Time left:0.00 min | 11/11...Finished\n",
      "\t\tConcatenating...Finished\n",
      "EDOF:\t\t Progress:100.00% | Run:0.87 min | est Time left:0.00 min | 30/30...Finished\n",
      "\t\tCroping...Saving...Done\n",
      "---------------------------\n",
      "File:E:\\20231124_ks_RR10_BNL2_BNL3\\2023_11_24__12_36__0721.czi Processing\n",
      "Multi Z Layer Img 1/1\n",
      "Reading:\t Progress:100.00% | Run:5.44 min | est Time left:0.00 min | 11/11...Finished\n",
      "\t\tConcatenating...Finished\n",
      "EDOF:\t\t Progress:100.00% | Run:1.25 min | est Time left:0.00 min | 42/42...Finished\n",
      "\t\tCroping...Saving...Done\n",
      "---------------------------\n",
      "File:E:\\20231124_ks_RR10_BNL2_BNL3\\2023_11_24__12_36__0722.czi Processing\n",
      "Multi Z Layer Img 1/2\n",
      "Reading:\t Progress:100.00% | Run:2.89 min | est Time left:0.00 min | 11/11...Finished\n",
      "\t\tConcatenating...Finished\n",
      "EDOF:\t\t Progress:100.00% | Run:0.69 min | est Time left:0.00 min | 24/24...Finished\n",
      "\t\tCroping...Saving...Done\n",
      "Multi Z Layer Img 2/2\n",
      "Reading:\t Progress:100.00% | Run:2.91 min | est Time left:0.00 min | 11/11...Finished\n",
      "\t\tConcatenating...Finished\n",
      "EDOF:\t\t Progress:100.00% | Run:0.88 min | est Time left:0.00 min | 30/30...Finished\n",
      "\t\tCroping...Saving...Done\n",
      "---------------------------\n",
      "File:E:\\20231124_ks_RR10_BNL2_BNL3\\2023_11_24__12_37__0723.czi Processing\n",
      "Multi Z Layer Img 1/1\n",
      "Reading:\t Progress:100.00% | Run:4.86 min | est Time left:0.00 min | 11/11...Finished\n",
      "\t\tConcatenating...Finished\n",
      "EDOF:\t\t Progress:100.00% | Run:1.07 min | est Time left:0.00 min | 36/36...Finished\n",
      "\t\tCroping...Saving...Done\n",
      "---------------------------\n",
      "File:E:\\20231124_ks_RR10_BNL2_BNL3\\ShutterTest.czi Processing\n"
     ]
    },
    {
     "ename": "RuntimeError",
     "evalue": "This file is not a mosaic file but was assumed to be. Use the non-mosaic specific bounding box functions.",
     "output_type": "error",
     "traceback": [
      "\u001b[1;31m---------------------------------------------------------------------------\u001b[0m",
      "\u001b[1;31mRuntimeError\u001b[0m                              Traceback (most recent call last)",
      "Cell \u001b[1;32mIn[34], line 5\u001b[0m\n\u001b[0;32m      2\u001b[0m full_file_path \u001b[38;5;241m=\u001b[39m os\u001b[38;5;241m.\u001b[39mpath\u001b[38;5;241m.\u001b[39mjoin(folder_path,file_name)\n\u001b[0;32m      3\u001b[0m output_name \u001b[38;5;241m=\u001b[39m file_name\u001b[38;5;241m.\u001b[39msplit(\u001b[38;5;124m'\u001b[39m\u001b[38;5;124m.\u001b[39m\u001b[38;5;124m'\u001b[39m)[\u001b[38;5;241m0\u001b[39m]\n\u001b[1;32m----> 5\u001b[0m \u001b[43mread_czi_generate_edof_img\u001b[49m\u001b[43m(\u001b[49m\n\u001b[0;32m      6\u001b[0m \u001b[43m                            \u001b[49m\u001b[43mfull_file_path\u001b[49m\u001b[43m,\u001b[49m\u001b[43m \u001b[49m\n\u001b[0;32m      7\u001b[0m \u001b[43m                            \u001b[49m\u001b[43moutput_name\u001b[49m\u001b[38;5;241;43m=\u001b[39;49m\u001b[43moutput_name\u001b[49m\u001b[43m,\u001b[49m\u001b[43m \u001b[49m\n\u001b[0;32m      8\u001b[0m \u001b[43m                            \u001b[49m\u001b[43moutput_path\u001b[49m\u001b[38;5;241;43m=\u001b[39;49m\u001b[43moutput_path\u001b[49m\u001b[43m,\u001b[49m\n\u001b[0;32m      9\u001b[0m \u001b[43m                            \u001b[49m\u001b[43mz_range\u001b[49m\u001b[38;5;241;43m=\u001b[39;49m\u001b[43mz_range\u001b[49m\u001b[43m,\u001b[49m\n\u001b[0;32m     10\u001b[0m \u001b[43m                            \u001b[49m\u001b[43mscale_factor\u001b[49m\u001b[38;5;241;43m=\u001b[39;49m\u001b[43mscale_factor\u001b[49m\u001b[43m,\u001b[49m\n\u001b[0;32m     11\u001b[0m \u001b[43m                            \u001b[49m\u001b[43mpatch_window_size\u001b[49m\u001b[38;5;241;43m=\u001b[39;49m\u001b[43mpatch_window_size\u001b[49m\u001b[43m,\u001b[49m\n\u001b[0;32m     12\u001b[0m \u001b[43m                            \u001b[49m\u001b[43mfilter_window_size\u001b[49m\u001b[38;5;241;43m=\u001b[39;49m\u001b[43mfilter_window_size\u001b[49m\u001b[43m,\u001b[49m\n\u001b[0;32m     13\u001b[0m \u001b[43m                            \u001b[49m\u001b[43mregistration\u001b[49m\u001b[38;5;241;43m=\u001b[39;49m\u001b[43mregistration\u001b[49m\u001b[43m,\u001b[49m\u001b[43m \u001b[49m\n\u001b[0;32m     14\u001b[0m \u001b[43m                            \u001b[49m\u001b[43msmooth\u001b[49m\u001b[38;5;241;43m=\u001b[39;49m\u001b[43msmooth\u001b[49m\n\u001b[0;32m     15\u001b[0m \u001b[43m\u001b[49m\u001b[43m)\u001b[49m\n",
      "Cell \u001b[1;32mIn[26], line 33\u001b[0m, in \u001b[0;36mread_czi_generate_edof_img\u001b[1;34m(file_path, output_name, output_path, z_range, scale_factor, patch_window_size, filter_window_size, registration, smooth)\u001b[0m\n\u001b[0;32m     30\u001b[0m \u001b[38;5;28;01mif\u001b[39;00m z_range \u001b[38;5;241m==\u001b[39m \u001b[38;5;28;01mNone\u001b[39;00m:\n\u001b[0;32m     31\u001b[0m     z_range \u001b[38;5;241m=\u001b[39m czi\u001b[38;5;241m.\u001b[39mget_dims_shape()[\u001b[38;5;241m0\u001b[39m][\u001b[38;5;124m'\u001b[39m\u001b[38;5;124mZ\u001b[39m\u001b[38;5;124m'\u001b[39m][\u001b[38;5;241m1\u001b[39m]\n\u001b[1;32m---> 33\u001b[0m full_coord_info \u001b[38;5;241m=\u001b[39m \u001b[43mget_full_coord_info\u001b[49m\u001b[43m(\u001b[49m\u001b[43mczi\u001b[49m\u001b[43m)\u001b[49m\n\u001b[0;32m     34\u001b[0m msk, low_res_contours \u001b[38;5;241m=\u001b[39m get_contours_info_from_low_res(czi)\n\u001b[0;32m     35\u001b[0m output_img_num \u001b[38;5;241m=\u001b[39m \u001b[38;5;28mlen\u001b[39m(low_res_contours)\n",
      "Cell \u001b[1;32mIn[23], line 2\u001b[0m, in \u001b[0;36mget_full_coord_info\u001b[1;34m(czi)\u001b[0m\n\u001b[0;32m      1\u001b[0m \u001b[38;5;28;01mdef\u001b[39;00m \u001b[38;5;21mget_full_coord_info\u001b[39m(czi):\n\u001b[1;32m----> 2\u001b[0m     full_coord_info \u001b[38;5;241m=\u001b[39m \u001b[43mczi\u001b[49m\u001b[38;5;241;43m.\u001b[39;49m\u001b[43mget_mosaic_bounding_box\u001b[49m\u001b[43m(\u001b[49m\u001b[43m)\u001b[49m\n\u001b[0;32m      3\u001b[0m     x,y,w,h \u001b[38;5;241m=\u001b[39m full_coord_info\u001b[38;5;241m.\u001b[39mx,full_coord_info\u001b[38;5;241m.\u001b[39my,full_coord_info\u001b[38;5;241m.\u001b[39mw,full_coord_info\u001b[38;5;241m.\u001b[39mh\n\u001b[0;32m      4\u001b[0m     \u001b[38;5;28;01mreturn\u001b[39;00m (x,y,w,h)\n",
      "File \u001b[1;32m~\\miniconda3\\envs\\edof\\lib\\site-packages\\aicspylibczi\\CziFile.py:390\u001b[0m, in \u001b[0;36mCziFile.get_mosaic_bounding_box\u001b[1;34m(self)\u001b[0m\n\u001b[0;32m    376\u001b[0m \u001b[38;5;28;01mdef\u001b[39;00m \u001b[38;5;21mget_mosaic_bounding_box\u001b[39m(\u001b[38;5;28mself\u001b[39m):\n\u001b[0;32m    377\u001b[0m \u001b[38;5;250m    \u001b[39m\u001b[38;5;124;03m\"\"\"\u001b[39;00m\n\u001b[0;32m    378\u001b[0m \u001b[38;5;124;03m    Get the bounding box for the entire mosaic image.\u001b[39;00m\n\u001b[0;32m    379\u001b[0m \n\u001b[1;32m   (...)\u001b[0m\n\u001b[0;32m    388\u001b[0m \n\u001b[0;32m    389\u001b[0m \u001b[38;5;124;03m    \"\"\"\u001b[39;00m\n\u001b[1;32m--> 390\u001b[0m     \u001b[38;5;28;01mreturn\u001b[39;00m \u001b[38;5;28;43mself\u001b[39;49m\u001b[38;5;241;43m.\u001b[39;49m\u001b[43mreader\u001b[49m\u001b[38;5;241;43m.\u001b[39;49m\u001b[43mread_mosaic_bounding_box\u001b[49m\u001b[43m(\u001b[49m\u001b[43m)\u001b[49m\n",
      "\u001b[1;31mRuntimeError\u001b[0m: This file is not a mosaic file but was assumed to be. Use the non-mosaic specific bounding box functions."
     ]
    }
   ],
   "source": [
    "for file_name in folder_list:\n",
    "    full_file_path = os.path.join(folder_path,file_name)\n",
    "    output_name = file_name.split('.')[0]\n",
    "        \n",
    "    read_czi_generate_edof_img(\n",
    "                                full_file_path, \n",
    "                                output_name=output_name, \n",
    "                                output_path=output_path,\n",
    "                                z_range=z_range,\n",
    "                                scale_factor=scale_factor,\n",
    "                                patch_window_size=patch_window_size,\n",
    "                                filter_window_size=filter_window_size,\n",
    "                                registration=registration, \n",
    "                                smooth=smooth\n",
    "    )"
   ]
  },
  {
   "cell_type": "markdown",
   "id": "ea6b84aa-f89e-4bd0-a088-a6575a33a950",
   "metadata": {},
   "source": [
    "### patch"
   ]
  },
  {
   "cell_type": "code",
   "execution_count": 19,
   "id": "a0e95d49-93be-49b8-bb66-baf33dba624b",
   "metadata": {},
   "outputs": [
    {
     "name": "stdout",
     "output_type": "stream",
     "text": [
      "File: 1/44\n",
      "File:D:\\DATASET\\brightfield_wsi_flatten_imgs\\BNL3\\SR\\2023_04_04__16_53__0544.czi Processing\n",
      "Multi Z Layer Img Reading & EDOF 1/1\n"
     ]
    },
    {
     "name": "stderr",
     "output_type": "stream",
     "text": [
      "100%|██████████████████████████████████████████████████████████████████████████████████| 25/25 [13:42<00:00, 32.90s/it]\n"
     ]
    },
    {
     "name": "stdout",
     "output_type": "stream",
     "text": [
      "Croping...Saving...Done\n",
      "---------------------------\n",
      "File: 2/44\n",
      "File:D:\\DATASET\\brightfield_wsi_flatten_imgs\\BNL3\\SR\\2023_04_04__16_53__0545.czi Processing\n",
      "Multi Z Layer Img Reading & EDOF 1/1\n"
     ]
    },
    {
     "name": "stderr",
     "output_type": "stream",
     "text": [
      "100%|██████████████████████████████████████████████████████████████████████████████████| 25/25 [13:21<00:00, 32.04s/it]\n"
     ]
    },
    {
     "name": "stdout",
     "output_type": "stream",
     "text": [
      "Croping...Saving...Done\n",
      "---------------------------\n",
      "File: 3/44\n",
      "File:D:\\DATASET\\brightfield_wsi_flatten_imgs\\BNL3\\SR\\2023_04_04__16_53__0546.czi Processing\n",
      "Multi Z Layer Img Reading & EDOF 1/1\n"
     ]
    },
    {
     "name": "stderr",
     "output_type": "stream",
     "text": [
      "100%|██████████████████████████████████████████████████████████████████████████████████| 25/25 [13:45<00:00, 33.03s/it]\n"
     ]
    },
    {
     "name": "stdout",
     "output_type": "stream",
     "text": [
      "Croping...Saving...Done\n",
      "---------------------------\n",
      "File: 4/44\n",
      "File:D:\\DATASET\\brightfield_wsi_flatten_imgs\\BNL3\\SR\\2023_04_04__16_53__0547.czi Processing\n",
      "Multi Z Layer Img Reading & EDOF 1/1\n"
     ]
    },
    {
     "name": "stderr",
     "output_type": "stream",
     "text": [
      "100%|██████████████████████████████████████████████████████████████████████████████████| 25/25 [14:33<00:00, 34.95s/it]\n"
     ]
    },
    {
     "name": "stdout",
     "output_type": "stream",
     "text": [
      "Croping...Saving...Done\n",
      "---------------------------\n",
      "File: 5/44\n",
      "File:D:\\DATASET\\brightfield_wsi_flatten_imgs\\BNL3\\SR\\2023_04_04__16_54__0548.czi Processing\n",
      "Multi Z Layer Img Reading & EDOF 1/1\n"
     ]
    },
    {
     "name": "stderr",
     "output_type": "stream",
     "text": [
      "100%|██████████████████████████████████████████████████████████████████████████████████| 30/30 [16:09<00:00, 32.33s/it]\n"
     ]
    },
    {
     "name": "stdout",
     "output_type": "stream",
     "text": [
      "Croping...Saving...Done\n",
      "---------------------------\n",
      "File: 6/44\n",
      "File:D:\\DATASET\\brightfield_wsi_flatten_imgs\\BNL3\\SR\\2023_04_04__16_54__0549.czi Processing\n",
      "Multi Z Layer Img Reading & EDOF 1/1\n"
     ]
    },
    {
     "name": "stderr",
     "output_type": "stream",
     "text": [
      "100%|██████████████████████████████████████████████████████████████████████████████████| 30/30 [15:24<00:00, 30.81s/it]\n"
     ]
    },
    {
     "name": "stdout",
     "output_type": "stream",
     "text": [
      "Croping...Saving...Done\n",
      "---------------------------\n",
      "File: 7/44\n",
      "File:D:\\DATASET\\brightfield_wsi_flatten_imgs\\BNL3\\SR\\2023_04_04__16_54__0550.czi Processing\n",
      "Multi Z Layer Img Reading & EDOF 1/1\n"
     ]
    },
    {
     "name": "stderr",
     "output_type": "stream",
     "text": [
      "100%|██████████████████████████████████████████████████████████████████████████████████| 30/30 [16:03<00:00, 32.11s/it]\n"
     ]
    },
    {
     "name": "stdout",
     "output_type": "stream",
     "text": [
      "Croping...Saving...Done\n",
      "---------------------------\n",
      "File: 8/44\n",
      "File:D:\\DATASET\\brightfield_wsi_flatten_imgs\\BNL3\\SR\\2023_04_04__16_54__0551.czi Processing\n",
      "Multi Z Layer Img Reading & EDOF 1/1\n"
     ]
    },
    {
     "name": "stderr",
     "output_type": "stream",
     "text": [
      "100%|██████████████████████████████████████████████████████████████████████████████████| 30/30 [15:16<00:00, 30.55s/it]\n"
     ]
    },
    {
     "name": "stdout",
     "output_type": "stream",
     "text": [
      "Croping...Saving...Done\n",
      "---------------------------\n",
      "File: 9/44\n",
      "File:D:\\DATASET\\brightfield_wsi_flatten_imgs\\BNL3\\SR\\2023_04_04__16_55__0552.czi Processing\n",
      "Multi Z Layer Img Reading & EDOF 1/1\n"
     ]
    },
    {
     "name": "stderr",
     "output_type": "stream",
     "text": [
      "100%|██████████████████████████████████████████████████████████████████████████████████| 25/25 [12:44<00:00, 30.56s/it]\n"
     ]
    },
    {
     "name": "stdout",
     "output_type": "stream",
     "text": [
      "Croping...Saving...Done\n",
      "---------------------------\n",
      "File: 10/44\n",
      "File:D:\\DATASET\\brightfield_wsi_flatten_imgs\\BNL3\\SR\\2023_04_04__16_55__0553.czi Processing\n",
      "Multi Z Layer Img Reading & EDOF 1/1\n"
     ]
    },
    {
     "name": "stderr",
     "output_type": "stream",
     "text": [
      "100%|██████████████████████████████████████████████████████████████████████████████████| 25/25 [13:38<00:00, 32.72s/it]\n"
     ]
    },
    {
     "name": "stdout",
     "output_type": "stream",
     "text": [
      "Croping...Saving...Done\n",
      "---------------------------\n",
      "File: 11/44\n",
      "File:D:\\DATASET\\brightfield_wsi_flatten_imgs\\BNL3\\SR\\2023_04_04__16_55__0554.czi Processing\n",
      "Multi Z Layer Img Reading & EDOF 1/1\n"
     ]
    },
    {
     "name": "stderr",
     "output_type": "stream",
     "text": [
      "100%|██████████████████████████████████████████████████████████████████████████████████| 25/25 [15:34<00:00, 37.38s/it]\n"
     ]
    },
    {
     "name": "stdout",
     "output_type": "stream",
     "text": [
      "Croping...Saving...Done\n",
      "---------------------------\n",
      "File: 12/44\n",
      "File:D:\\DATASET\\brightfield_wsi_flatten_imgs\\BNL3\\SR\\2023_04_04__16_55__0555.czi Processing\n",
      "Multi Z Layer Img Reading & EDOF 1/1\n"
     ]
    },
    {
     "name": "stderr",
     "output_type": "stream",
     "text": [
      "100%|██████████████████████████████████████████████████████████████████████████████████| 25/25 [13:03<00:00, 31.33s/it]\n"
     ]
    },
    {
     "name": "stdout",
     "output_type": "stream",
     "text": [
      "Croping...Saving...Done\n",
      "---------------------------\n",
      "File: 13/44\n",
      "File:D:\\DATASET\\brightfield_wsi_flatten_imgs\\BNL3\\SR\\2023_04_04__16_56__0556.czi Processing\n",
      "Multi Z Layer Img Reading & EDOF 1/1\n"
     ]
    },
    {
     "name": "stderr",
     "output_type": "stream",
     "text": [
      "100%|██████████████████████████████████████████████████████████████████████████████████| 25/25 [13:49<00:00, 33.18s/it]\n"
     ]
    },
    {
     "name": "stdout",
     "output_type": "stream",
     "text": [
      "Croping...Saving...Done\n",
      "---------------------------\n",
      "File: 14/44\n",
      "File:D:\\DATASET\\brightfield_wsi_flatten_imgs\\BNL3\\SR\\2023_04_04__16_56__0557.czi Processing\n",
      "Multi Z Layer Img Reading & EDOF 1/1\n"
     ]
    },
    {
     "name": "stderr",
     "output_type": "stream",
     "text": [
      "100%|██████████████████████████████████████████████████████████████████████████████████| 25/25 [13:24<00:00, 32.18s/it]\n"
     ]
    },
    {
     "name": "stdout",
     "output_type": "stream",
     "text": [
      "Croping...Saving...Done\n",
      "---------------------------\n",
      "File: 15/44\n",
      "File:D:\\DATASET\\brightfield_wsi_flatten_imgs\\BNL3\\SR\\2023_04_04__16_56__0558.czi Processing\n",
      "Multi Z Layer Img Reading & EDOF 1/1\n"
     ]
    },
    {
     "name": "stderr",
     "output_type": "stream",
     "text": [
      "100%|██████████████████████████████████████████████████████████████████████████████████| 25/25 [13:12<00:00, 31.70s/it]\n"
     ]
    },
    {
     "name": "stdout",
     "output_type": "stream",
     "text": [
      "Croping...Saving...Done\n",
      "---------------------------\n",
      "File: 16/44\n",
      "File:D:\\DATASET\\brightfield_wsi_flatten_imgs\\BNL3\\SR\\2023_04_04__16_56__0559.czi Processing\n",
      "Multi Z Layer Img Reading & EDOF 1/1\n"
     ]
    },
    {
     "name": "stderr",
     "output_type": "stream",
     "text": [
      "100%|██████████████████████████████████████████████████████████████████████████████████| 25/25 [13:17<00:00, 31.89s/it]\n"
     ]
    },
    {
     "name": "stdout",
     "output_type": "stream",
     "text": [
      "Croping...Saving...Done\n",
      "---------------------------\n",
      "File: 17/44\n",
      "File:D:\\DATASET\\brightfield_wsi_flatten_imgs\\BNL3\\SR\\2023_04_04__16_56__0560.czi Processing\n",
      "Multi Z Layer Img Reading & EDOF 1/1\n"
     ]
    },
    {
     "name": "stderr",
     "output_type": "stream",
     "text": [
      "100%|██████████████████████████████████████████████████████████████████████████████████| 30/30 [17:06<00:00, 34.21s/it]\n"
     ]
    },
    {
     "name": "stdout",
     "output_type": "stream",
     "text": [
      "Croping...Saving...Done\n",
      "---------------------------\n",
      "File: 18/44\n",
      "File:D:\\DATASET\\brightfield_wsi_flatten_imgs\\BNL3\\SR\\2023_04_04__16_56__0561.czi Processing\n",
      "Multi Z Layer Img Reading & EDOF 1/1\n"
     ]
    },
    {
     "name": "stderr",
     "output_type": "stream",
     "text": [
      "100%|██████████████████████████████████████████████████████████████████████████████████| 20/20 [12:30<00:00, 37.54s/it]\n"
     ]
    },
    {
     "name": "stdout",
     "output_type": "stream",
     "text": [
      "Croping...Saving...Done\n",
      "---------------------------\n",
      "File: 19/44\n",
      "File:D:\\DATASET\\brightfield_wsi_flatten_imgs\\BNL3\\SR\\2023_04_04__16_57__0562.czi Processing\n",
      "Multi Z Layer Img Reading & EDOF 1/1\n"
     ]
    },
    {
     "name": "stderr",
     "output_type": "stream",
     "text": [
      "100%|██████████████████████████████████████████████████████████████████████████████████| 25/25 [13:03<00:00, 31.35s/it]\n"
     ]
    },
    {
     "name": "stdout",
     "output_type": "stream",
     "text": [
      "Croping...Saving...Done\n",
      "---------------------------\n",
      "File: 20/44\n",
      "File:D:\\DATASET\\brightfield_wsi_flatten_imgs\\BNL3\\SR\\2023_04_04__16_57__0563.czi Processing\n",
      "Multi Z Layer Img Reading & EDOF 1/1\n"
     ]
    },
    {
     "name": "stderr",
     "output_type": "stream",
     "text": [
      "100%|██████████████████████████████████████████████████████████████████████████████████| 30/30 [14:52<00:00, 29.74s/it]\n"
     ]
    },
    {
     "name": "stdout",
     "output_type": "stream",
     "text": [
      "Croping...Saving...Done\n",
      "---------------------------\n",
      "File: 21/44\n",
      "File:D:\\DATASET\\brightfield_wsi_flatten_imgs\\BNL3\\SR\\2023_04_04__16_57__0564.czi Processing\n",
      "Multi Z Layer Img Reading & EDOF 1/1\n"
     ]
    },
    {
     "name": "stderr",
     "output_type": "stream",
     "text": [
      "100%|██████████████████████████████████████████████████████████████████████████████████| 20/20 [12:11<00:00, 36.56s/it]\n"
     ]
    },
    {
     "name": "stdout",
     "output_type": "stream",
     "text": [
      "Croping...Saving...Done\n",
      "---------------------------\n",
      "File: 22/44\n",
      "File:D:\\DATASET\\brightfield_wsi_flatten_imgs\\BNL3\\SR\\2023_04_04__16_58__0565.czi Processing\n",
      "Multi Z Layer Img Reading & EDOF 1/1\n"
     ]
    },
    {
     "name": "stderr",
     "output_type": "stream",
     "text": [
      "100%|██████████████████████████████████████████████████████████████████████████████████| 25/25 [13:54<00:00, 33.37s/it]\n"
     ]
    },
    {
     "name": "stdout",
     "output_type": "stream",
     "text": [
      "Croping...Saving...Done\n",
      "---------------------------\n",
      "File: 23/44\n",
      "File:D:\\DATASET\\brightfield_wsi_flatten_imgs\\BNL3\\SR\\2023_04_04__16_58__0566.czi Processing\n",
      "Multi Z Layer Img Reading & EDOF 1/1\n"
     ]
    },
    {
     "name": "stderr",
     "output_type": "stream",
     "text": [
      "100%|██████████████████████████████████████████████████████████████████████████████████| 20/20 [12:14<00:00, 36.71s/it]\n"
     ]
    },
    {
     "name": "stdout",
     "output_type": "stream",
     "text": [
      "Croping...Saving...Done\n",
      "---------------------------\n",
      "File: 24/44\n",
      "File:D:\\DATASET\\brightfield_wsi_flatten_imgs\\BNL3\\SR\\2023_04_04__16_58__0567.czi Processing\n",
      "Multi Z Layer Img Reading & EDOF 1/1\n"
     ]
    },
    {
     "name": "stderr",
     "output_type": "stream",
     "text": [
      "100%|██████████████████████████████████████████████████████████████████████████████████| 25/25 [14:34<00:00, 34.99s/it]\n"
     ]
    },
    {
     "name": "stdout",
     "output_type": "stream",
     "text": [
      "Croping...Saving...Done\n",
      "---------------------------\n",
      "File: 25/44\n",
      "File:D:\\DATASET\\brightfield_wsi_flatten_imgs\\BNL3\\SR\\2023_04_04__16_58__0568.czi Processing\n",
      "Multi Z Layer Img Reading & EDOF 1/1\n"
     ]
    },
    {
     "name": "stderr",
     "output_type": "stream",
     "text": [
      "100%|██████████████████████████████████████████████████████████████████████████████████| 24/24 [13:33<00:00, 33.88s/it]\n"
     ]
    },
    {
     "name": "stdout",
     "output_type": "stream",
     "text": [
      "Croping...Saving...Done\n",
      "---------------------------\n",
      "File: 26/44\n",
      "File:D:\\DATASET\\brightfield_wsi_flatten_imgs\\BNL3\\SR\\2023_04_04__16_58__0569.czi Processing\n",
      "Multi Z Layer Img Reading & EDOF 1/1\n"
     ]
    },
    {
     "name": "stderr",
     "output_type": "stream",
     "text": [
      "100%|██████████████████████████████████████████████████████████████████████████████████| 25/25 [12:54<00:00, 30.97s/it]\n"
     ]
    },
    {
     "name": "stdout",
     "output_type": "stream",
     "text": [
      "Croping...Saving...Done\n",
      "---------------------------\n",
      "File: 27/44\n",
      "File:D:\\DATASET\\brightfield_wsi_flatten_imgs\\BNL3\\SR\\2023_04_04__16_58__0570.czi Processing\n",
      "Multi Z Layer Img Reading & EDOF 1/1\n"
     ]
    },
    {
     "name": "stderr",
     "output_type": "stream",
     "text": [
      "100%|██████████████████████████████████████████████████████████████████████████████████| 25/25 [14:47<00:00, 35.48s/it]\n"
     ]
    },
    {
     "name": "stdout",
     "output_type": "stream",
     "text": [
      "Croping...Saving...Done\n",
      "---------------------------\n",
      "File: 28/44\n",
      "File:D:\\DATASET\\brightfield_wsi_flatten_imgs\\BNL3\\SR\\2023_04_04__16_58__0571.czi Processing\n",
      "Multi Z Layer Img Reading & EDOF 1/1\n"
     ]
    },
    {
     "name": "stderr",
     "output_type": "stream",
     "text": [
      "100%|██████████████████████████████████████████████████████████████████████████████████| 30/30 [15:42<00:00, 31.42s/it]\n"
     ]
    },
    {
     "name": "stdout",
     "output_type": "stream",
     "text": [
      "Croping...Saving...Done\n",
      "---------------------------\n",
      "File: 29/44\n",
      "File:D:\\DATASET\\brightfield_wsi_flatten_imgs\\BNL3\\SR\\2023_04_04__16_59__0572.czi Processing\n",
      "Multi Z Layer Img Reading & EDOF 1/1\n"
     ]
    },
    {
     "name": "stderr",
     "output_type": "stream",
     "text": [
      "100%|██████████████████████████████████████████████████████████████████████████████████| 30/30 [18:24<00:00, 36.82s/it]\n"
     ]
    },
    {
     "name": "stdout",
     "output_type": "stream",
     "text": [
      "Croping...Saving...Done\n",
      "---------------------------\n",
      "File: 30/44\n",
      "File:D:\\DATASET\\brightfield_wsi_flatten_imgs\\BNL3\\SR\\2023_04_04__16_59__0573.czi Processing\n",
      "Multi Z Layer Img Reading & EDOF 1/1\n"
     ]
    },
    {
     "name": "stderr",
     "output_type": "stream",
     "text": [
      "100%|██████████████████████████████████████████████████████████████████████████████████| 25/25 [13:15<00:00, 31.83s/it]\n"
     ]
    },
    {
     "name": "stdout",
     "output_type": "stream",
     "text": [
      "Croping...Saving...Done\n",
      "---------------------------\n",
      "File: 31/44\n",
      "File:D:\\DATASET\\brightfield_wsi_flatten_imgs\\BNL3\\SR\\2023_04_04__16_59__0574.czi Processing\n",
      "Multi Z Layer Img Reading & EDOF 1/1\n"
     ]
    },
    {
     "name": "stderr",
     "output_type": "stream",
     "text": [
      "100%|██████████████████████████████████████████████████████████████████████████████████| 25/25 [13:51<00:00, 33.27s/it]\n"
     ]
    },
    {
     "name": "stdout",
     "output_type": "stream",
     "text": [
      "Croping...Saving...Done\n",
      "---------------------------\n",
      "File: 32/44\n",
      "File:D:\\DATASET\\brightfield_wsi_flatten_imgs\\BNL3\\SR\\2023_04_04__16_59__0575.czi Processing\n",
      "Multi Z Layer Img Reading & EDOF 1/1\n"
     ]
    },
    {
     "name": "stderr",
     "output_type": "stream",
     "text": [
      "100%|██████████████████████████████████████████████████████████████████████████████████| 25/25 [13:24<00:00, 32.16s/it]\n"
     ]
    },
    {
     "name": "stdout",
     "output_type": "stream",
     "text": [
      "Croping...Saving...Done\n",
      "---------------------------\n",
      "File: 33/44\n",
      "File:D:\\DATASET\\brightfield_wsi_flatten_imgs\\BNL3\\SR\\2023_04_04__17_00__0576.czi Processing\n",
      "Multi Z Layer Img Reading & EDOF 1/1\n"
     ]
    },
    {
     "name": "stderr",
     "output_type": "stream",
     "text": [
      "100%|██████████████████████████████████████████████████████████████████████████████████| 25/25 [14:01<00:00, 33.65s/it]\n"
     ]
    },
    {
     "name": "stdout",
     "output_type": "stream",
     "text": [
      "Croping...Saving...Done\n",
      "---------------------------\n",
      "File: 34/44\n",
      "File:D:\\DATASET\\brightfield_wsi_flatten_imgs\\BNL3\\SR\\2023_04_04__17_00__0577.czi Processing\n",
      "Multi Z Layer Img Reading & EDOF 1/1\n"
     ]
    },
    {
     "name": "stderr",
     "output_type": "stream",
     "text": [
      "100%|██████████████████████████████████████████████████████████████████████████████████| 25/25 [08:26<00:00, 20.25s/it]\n"
     ]
    },
    {
     "name": "stdout",
     "output_type": "stream",
     "text": [
      "Croping...Saving...Done\n",
      "---------------------------\n",
      "File: 35/44\n",
      "File:D:\\DATASET\\brightfield_wsi_flatten_imgs\\BNL3\\SR\\2023_04_04__17_00__0578.czi Processing\n",
      "Multi Z Layer Img Reading & EDOF 1/1\n"
     ]
    },
    {
     "name": "stderr",
     "output_type": "stream",
     "text": [
      "100%|██████████████████████████████████████████████████████████████████████████████████| 30/30 [08:29<00:00, 16.98s/it]\n"
     ]
    },
    {
     "name": "stdout",
     "output_type": "stream",
     "text": [
      "Croping...Saving...Done\n",
      "---------------------------\n",
      "File: 36/44\n",
      "File:D:\\DATASET\\brightfield_wsi_flatten_imgs\\BNL3\\SR\\2023_04_04__17_00__0579.czi Processing\n",
      "Multi Z Layer Img Reading & EDOF 1/1\n"
     ]
    },
    {
     "name": "stderr",
     "output_type": "stream",
     "text": [
      "100%|██████████████████████████████████████████████████████████████████████████████████| 30/30 [09:05<00:00, 18.18s/it]\n"
     ]
    },
    {
     "name": "stdout",
     "output_type": "stream",
     "text": [
      "Croping...Saving...Done\n",
      "---------------------------\n",
      "File: 37/44\n",
      "File:D:\\DATASET\\brightfield_wsi_flatten_imgs\\BNL3\\SR\\2023_04_04__17_01__0580.czi Processing\n",
      "Multi Z Layer Img Reading & EDOF 1/1\n"
     ]
    },
    {
     "name": "stderr",
     "output_type": "stream",
     "text": [
      "100%|██████████████████████████████████████████████████████████████████████████████████| 25/25 [15:00<00:00, 36.03s/it]\n"
     ]
    },
    {
     "name": "stdout",
     "output_type": "stream",
     "text": [
      "Croping...Saving...Done\n",
      "---------------------------\n",
      "File: 38/44\n",
      "File:D:\\DATASET\\brightfield_wsi_flatten_imgs\\BNL3\\SR\\2023_04_04__17_01__0581.czi Processing\n",
      "Multi Z Layer Img Reading & EDOF 1/1\n"
     ]
    },
    {
     "name": "stderr",
     "output_type": "stream",
     "text": [
      "100%|██████████████████████████████████████████████████████████████████████████████████| 25/25 [15:10<00:00, 36.42s/it]\n"
     ]
    },
    {
     "name": "stdout",
     "output_type": "stream",
     "text": [
      "Croping...Saving...Done\n",
      "---------------------------\n",
      "File: 39/44\n",
      "File:D:\\DATASET\\brightfield_wsi_flatten_imgs\\BNL3\\SR\\2023_04_04__17_01__0582.czi Processing\n",
      "Multi Z Layer Img Reading & EDOF 1/1\n"
     ]
    },
    {
     "name": "stderr",
     "output_type": "stream",
     "text": [
      "100%|██████████████████████████████████████████████████████████████████████████████████| 25/25 [14:51<00:00, 35.65s/it]\n"
     ]
    },
    {
     "name": "stdout",
     "output_type": "stream",
     "text": [
      "Croping...Saving...Done\n",
      "---------------------------\n",
      "File: 40/44\n",
      "File:D:\\DATASET\\brightfield_wsi_flatten_imgs\\BNL3\\SR\\2023_04_04__17_01__0583.czi Processing\n",
      "Multi Z Layer Img Reading & EDOF 1/1\n"
     ]
    },
    {
     "name": "stderr",
     "output_type": "stream",
     "text": [
      "100%|██████████████████████████████████████████████████████████████████████████████████| 25/25 [14:17<00:00, 34.30s/it]\n"
     ]
    },
    {
     "name": "stdout",
     "output_type": "stream",
     "text": [
      "Croping...Saving...Done\n",
      "---------------------------\n",
      "File: 41/44\n",
      "File:D:\\DATASET\\brightfield_wsi_flatten_imgs\\BNL3\\SR\\2023_04_04__17_02__0584.czi Processing\n",
      "Multi Z Layer Img Reading & EDOF 1/1\n"
     ]
    },
    {
     "name": "stderr",
     "output_type": "stream",
     "text": [
      "100%|██████████████████████████████████████████████████████████████████████████████████| 30/30 [16:23<00:00, 32.77s/it]\n"
     ]
    },
    {
     "name": "stdout",
     "output_type": "stream",
     "text": [
      "Croping...Saving...Done\n",
      "---------------------------\n",
      "File: 42/44\n",
      "File:D:\\DATASET\\brightfield_wsi_flatten_imgs\\BNL3\\SR\\2023_04_04__17_02__0585.czi Processing\n",
      "Multi Z Layer Img Reading & EDOF 1/1\n"
     ]
    },
    {
     "name": "stderr",
     "output_type": "stream",
     "text": [
      "100%|██████████████████████████████████████████████████████████████████████████████████| 25/25 [12:43<00:00, 30.53s/it]\n"
     ]
    },
    {
     "name": "stdout",
     "output_type": "stream",
     "text": [
      "Croping...Saving...Done\n",
      "---------------------------\n",
      "File: 43/44\n",
      "File:D:\\DATASET\\brightfield_wsi_flatten_imgs\\BNL3\\SR\\2023_04_04__17_02__0586.czi Processing\n",
      "Multi Z Layer Img Reading & EDOF 1/1\n"
     ]
    },
    {
     "name": "stderr",
     "output_type": "stream",
     "text": [
      "100%|██████████████████████████████████████████████████████████████████████████████████| 25/25 [14:11<00:00, 34.07s/it]\n"
     ]
    },
    {
     "name": "stdout",
     "output_type": "stream",
     "text": [
      "Croping...Saving...Done\n",
      "---------------------------\n",
      "File: 44/44\n",
      "File:D:\\DATASET\\brightfield_wsi_flatten_imgs\\BNL3\\SR\\2023_04_04__17_02__0587.czi Processing\n",
      "Multi Z Layer Img Reading & EDOF 1/1\n"
     ]
    },
    {
     "name": "stderr",
     "output_type": "stream",
     "text": [
      "100%|██████████████████████████████████████████████████████████████████████████████████| 25/25 [14:38<00:00, 35.15s/it]\n"
     ]
    },
    {
     "name": "stdout",
     "output_type": "stream",
     "text": [
      "Croping...Saving...Done\n",
      "---------------------------\n"
     ]
    }
   ],
   "source": [
    "folder_path = r'D:\\DATASET\\brightfield_wsi_flatten_imgs\\BNL3\\SR'\n",
    "folder_list = os.listdir(folder_path)\n",
    "folder_list = [i for i in folder_list if i.split('.')[-1]=='czi']\n",
    "\n",
    "output_path = r'D:\\DATASET\\brightfield_wsi_flatten_imgs\\BNL3\\SR\\flatten'\n",
    "\n",
    "filter_window_size = 200\n",
    "smooth = False #cv2.INTER_CUBIC\n",
    "registration = False\n",
    "file_num = len(folder_list)\n",
    "\n",
    "for idx,file_name in enumerate(folder_list,1):\n",
    "    full_file_path = os.path.join(folder_path,file_name)\n",
    "    output_name = file_name.split('.')[0]\n",
    "    \n",
    "    print(f'File: {idx}/{file_num}')\n",
    "    read_czi_generate_edof_img_patch(full_file_path, \n",
    "                                    output_name=output_name, output_path=output_path,\n",
    "                                    patch_window_factor=25, filter_window_size=filter_window_size,\n",
    "                                    registration=False, smooth=False)"
   ]
  }
 ],
 "metadata": {
  "kernelspec": {
   "display_name": "Python 3.8 (imgpro)",
   "language": "python",
   "name": "imgpro"
  },
  "language_info": {
   "codemirror_mode": {
    "name": "ipython",
    "version": 3
   },
   "file_extension": ".py",
   "mimetype": "text/x-python",
   "name": "python",
   "nbconvert_exporter": "python",
   "pygments_lexer": "ipython3",
   "version": "3.8.18"
  }
 },
 "nbformat": 4,
 "nbformat_minor": 5
}
